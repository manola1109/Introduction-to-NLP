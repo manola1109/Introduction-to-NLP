{
  "nbformat": 4,
  "nbformat_minor": 0,
  "metadata": {
    "kernelspec": {
      "display_name": "Python 3",
      "language": "python",
      "name": "python3"
    },
    "language_info": {
      "codemirror_mode": {
        "name": "ipython",
        "version": 3
      },
      "file_extension": ".py",
      "mimetype": "text/x-python",
      "name": "python",
      "nbconvert_exporter": "python",
      "pygments_lexer": "ipython3",
      "version": "3.6.7"
    },
    "colab": {
      "provenance": [],
      "include_colab_link": true
    }
  },
  "cells": [
    {
      "cell_type": "markdown",
      "metadata": {
        "id": "view-in-github",
        "colab_type": "text"
      },
      "source": [
        "<a href=\"https://colab.research.google.com/github/manola1109/Introduction-to-NLP/blob/main/4_6_Using_RegEx_on_Real_World_Dataset.ipynb\" target=\"_parent\"><img src=\"https://colab.research.google.com/assets/colab-badge.svg\" alt=\"Open In Colab\"/></a>"
      ]
    },
    {
      "cell_type": "markdown",
      "metadata": {
        "id": "xtjqI_mfujh2"
      },
      "source": [
        "# Table of Contents\n",
        " 1. About the Dataset\n",
        " 2. Regex for Cleaning Text Data\n",
        " 3. Regex for Text Data Extraction\n",
        " 4. Regex Challenge\n"
      ]
    },
    {
      "cell_type": "markdown",
      "metadata": {
        "id": "cBHdRHrJujh5"
      },
      "source": [
        "## 1. About the Dataset"
      ]
    },
    {
      "cell_type": "code",
      "metadata": {
        "id": "PW7kNj8Xujh8",
        "colab": {
          "base_uri": "https://localhost:8080/",
          "height": 452
        },
        "outputId": "16500cb7-939e-462a-8924-d9543f9ffa6f"
      },
      "source": [
        "import pandas as pd\n",
        "\n",
        "#Loading the dataset\n",
        "df = pd.read_csv(\"tweets.csv\", encoding = \"ISO-8859-1\")\n",
        "\n",
        "# Printing first 5 rows\n",
        "df.head()"
      ],
      "execution_count": 1,
      "outputs": [
        {
          "output_type": "execute_result",
          "data": {
            "text/plain": [
              "   Unnamed: 0  X                                               text  \\\n",
              "0           1  1  RT @rssurjewala: Critical question: Was PayTM ...   \n",
              "1           2  2  RT @Hemant_80: Did you vote on #Demonetization...   \n",
              "2           3  3  RT @roshankar: Former FinSec, RBI Dy Governor,...   \n",
              "3           4  4  RT @ANI_news: Gurugram (Haryana): Post office ...   \n",
              "4           5  5  RT @satishacharya: Reddy Wedding! @mail_today ...   \n",
              "\n",
              "   favorited  favoriteCount replyToSN              created  truncated  \\\n",
              "0      False              0       NaN  2016-11-23 18:40:30      False   \n",
              "1      False              0       NaN  2016-11-23 18:40:29      False   \n",
              "2      False              0       NaN  2016-11-23 18:40:03      False   \n",
              "3      False              0       NaN  2016-11-23 18:39:59      False   \n",
              "4      False              0       NaN  2016-11-23 18:39:39      False   \n",
              "\n",
              "   replyToSID            id  replyToUID  \\\n",
              "0         NaN  8.014957e+17         NaN   \n",
              "1         NaN  8.014957e+17         NaN   \n",
              "2         NaN  8.014955e+17         NaN   \n",
              "3         NaN  8.014955e+17         NaN   \n",
              "4         NaN  8.014954e+17         NaN   \n",
              "\n",
              "                                        statusSource       screenName  \\\n",
              "0  <a href=\"http://twitter.com/download/android\" ...  HASHTAGFARZIWAL   \n",
              "1  <a href=\"http://twitter.com/download/android\" ...   PRAMODKAUSHIK9   \n",
              "2  <a href=\"http://twitter.com/download/android\" ...  rahulja13034944   \n",
              "3  <a href=\"http://twitter.com/download/android\" ...        deeptiyvd   \n",
              "4  <a href=\"http://cpimharyana.com\" rel=\"nofollow...        CPIMBadli   \n",
              "\n",
              "   retweetCount  isRetweet  retweeted  \n",
              "0           331       True      False  \n",
              "1            66       True      False  \n",
              "2            12       True      False  \n",
              "3           338       True      False  \n",
              "4           120       True      False  "
            ],
            "text/html": [
              "\n",
              "  <div id=\"df-1b86c129-9af5-4920-a5ab-c77deb12e023\" class=\"colab-df-container\">\n",
              "    <div>\n",
              "<style scoped>\n",
              "    .dataframe tbody tr th:only-of-type {\n",
              "        vertical-align: middle;\n",
              "    }\n",
              "\n",
              "    .dataframe tbody tr th {\n",
              "        vertical-align: top;\n",
              "    }\n",
              "\n",
              "    .dataframe thead th {\n",
              "        text-align: right;\n",
              "    }\n",
              "</style>\n",
              "<table border=\"1\" class=\"dataframe\">\n",
              "  <thead>\n",
              "    <tr style=\"text-align: right;\">\n",
              "      <th></th>\n",
              "      <th>Unnamed: 0</th>\n",
              "      <th>X</th>\n",
              "      <th>text</th>\n",
              "      <th>favorited</th>\n",
              "      <th>favoriteCount</th>\n",
              "      <th>replyToSN</th>\n",
              "      <th>created</th>\n",
              "      <th>truncated</th>\n",
              "      <th>replyToSID</th>\n",
              "      <th>id</th>\n",
              "      <th>replyToUID</th>\n",
              "      <th>statusSource</th>\n",
              "      <th>screenName</th>\n",
              "      <th>retweetCount</th>\n",
              "      <th>isRetweet</th>\n",
              "      <th>retweeted</th>\n",
              "    </tr>\n",
              "  </thead>\n",
              "  <tbody>\n",
              "    <tr>\n",
              "      <th>0</th>\n",
              "      <td>1</td>\n",
              "      <td>1</td>\n",
              "      <td>RT @rssurjewala: Critical question: Was PayTM ...</td>\n",
              "      <td>False</td>\n",
              "      <td>0</td>\n",
              "      <td>NaN</td>\n",
              "      <td>2016-11-23 18:40:30</td>\n",
              "      <td>False</td>\n",
              "      <td>NaN</td>\n",
              "      <td>8.014957e+17</td>\n",
              "      <td>NaN</td>\n",
              "      <td>&lt;a href=\"http://twitter.com/download/android\" ...</td>\n",
              "      <td>HASHTAGFARZIWAL</td>\n",
              "      <td>331</td>\n",
              "      <td>True</td>\n",
              "      <td>False</td>\n",
              "    </tr>\n",
              "    <tr>\n",
              "      <th>1</th>\n",
              "      <td>2</td>\n",
              "      <td>2</td>\n",
              "      <td>RT @Hemant_80: Did you vote on #Demonetization...</td>\n",
              "      <td>False</td>\n",
              "      <td>0</td>\n",
              "      <td>NaN</td>\n",
              "      <td>2016-11-23 18:40:29</td>\n",
              "      <td>False</td>\n",
              "      <td>NaN</td>\n",
              "      <td>8.014957e+17</td>\n",
              "      <td>NaN</td>\n",
              "      <td>&lt;a href=\"http://twitter.com/download/android\" ...</td>\n",
              "      <td>PRAMODKAUSHIK9</td>\n",
              "      <td>66</td>\n",
              "      <td>True</td>\n",
              "      <td>False</td>\n",
              "    </tr>\n",
              "    <tr>\n",
              "      <th>2</th>\n",
              "      <td>3</td>\n",
              "      <td>3</td>\n",
              "      <td>RT @roshankar: Former FinSec, RBI Dy Governor,...</td>\n",
              "      <td>False</td>\n",
              "      <td>0</td>\n",
              "      <td>NaN</td>\n",
              "      <td>2016-11-23 18:40:03</td>\n",
              "      <td>False</td>\n",
              "      <td>NaN</td>\n",
              "      <td>8.014955e+17</td>\n",
              "      <td>NaN</td>\n",
              "      <td>&lt;a href=\"http://twitter.com/download/android\" ...</td>\n",
              "      <td>rahulja13034944</td>\n",
              "      <td>12</td>\n",
              "      <td>True</td>\n",
              "      <td>False</td>\n",
              "    </tr>\n",
              "    <tr>\n",
              "      <th>3</th>\n",
              "      <td>4</td>\n",
              "      <td>4</td>\n",
              "      <td>RT @ANI_news: Gurugram (Haryana): Post office ...</td>\n",
              "      <td>False</td>\n",
              "      <td>0</td>\n",
              "      <td>NaN</td>\n",
              "      <td>2016-11-23 18:39:59</td>\n",
              "      <td>False</td>\n",
              "      <td>NaN</td>\n",
              "      <td>8.014955e+17</td>\n",
              "      <td>NaN</td>\n",
              "      <td>&lt;a href=\"http://twitter.com/download/android\" ...</td>\n",
              "      <td>deeptiyvd</td>\n",
              "      <td>338</td>\n",
              "      <td>True</td>\n",
              "      <td>False</td>\n",
              "    </tr>\n",
              "    <tr>\n",
              "      <th>4</th>\n",
              "      <td>5</td>\n",
              "      <td>5</td>\n",
              "      <td>RT @satishacharya: Reddy Wedding! @mail_today ...</td>\n",
              "      <td>False</td>\n",
              "      <td>0</td>\n",
              "      <td>NaN</td>\n",
              "      <td>2016-11-23 18:39:39</td>\n",
              "      <td>False</td>\n",
              "      <td>NaN</td>\n",
              "      <td>8.014954e+17</td>\n",
              "      <td>NaN</td>\n",
              "      <td>&lt;a href=\"http://cpimharyana.com\" rel=\"nofollow...</td>\n",
              "      <td>CPIMBadli</td>\n",
              "      <td>120</td>\n",
              "      <td>True</td>\n",
              "      <td>False</td>\n",
              "    </tr>\n",
              "  </tbody>\n",
              "</table>\n",
              "</div>\n",
              "    <div class=\"colab-df-buttons\">\n",
              "\n",
              "  <div class=\"colab-df-container\">\n",
              "    <button class=\"colab-df-convert\" onclick=\"convertToInteractive('df-1b86c129-9af5-4920-a5ab-c77deb12e023')\"\n",
              "            title=\"Convert this dataframe to an interactive table.\"\n",
              "            style=\"display:none;\">\n",
              "\n",
              "  <svg xmlns=\"http://www.w3.org/2000/svg\" height=\"24px\" viewBox=\"0 -960 960 960\">\n",
              "    <path d=\"M120-120v-720h720v720H120Zm60-500h600v-160H180v160Zm220 220h160v-160H400v160Zm0 220h160v-160H400v160ZM180-400h160v-160H180v160Zm440 0h160v-160H620v160ZM180-180h160v-160H180v160Zm440 0h160v-160H620v160Z\"/>\n",
              "  </svg>\n",
              "    </button>\n",
              "\n",
              "  <style>\n",
              "    .colab-df-container {\n",
              "      display:flex;\n",
              "      gap: 12px;\n",
              "    }\n",
              "\n",
              "    .colab-df-convert {\n",
              "      background-color: #E8F0FE;\n",
              "      border: none;\n",
              "      border-radius: 50%;\n",
              "      cursor: pointer;\n",
              "      display: none;\n",
              "      fill: #1967D2;\n",
              "      height: 32px;\n",
              "      padding: 0 0 0 0;\n",
              "      width: 32px;\n",
              "    }\n",
              "\n",
              "    .colab-df-convert:hover {\n",
              "      background-color: #E2EBFA;\n",
              "      box-shadow: 0px 1px 2px rgba(60, 64, 67, 0.3), 0px 1px 3px 1px rgba(60, 64, 67, 0.15);\n",
              "      fill: #174EA6;\n",
              "    }\n",
              "\n",
              "    .colab-df-buttons div {\n",
              "      margin-bottom: 4px;\n",
              "    }\n",
              "\n",
              "    [theme=dark] .colab-df-convert {\n",
              "      background-color: #3B4455;\n",
              "      fill: #D2E3FC;\n",
              "    }\n",
              "\n",
              "    [theme=dark] .colab-df-convert:hover {\n",
              "      background-color: #434B5C;\n",
              "      box-shadow: 0px 1px 3px 1px rgba(0, 0, 0, 0.15);\n",
              "      filter: drop-shadow(0px 1px 2px rgba(0, 0, 0, 0.3));\n",
              "      fill: #FFFFFF;\n",
              "    }\n",
              "  </style>\n",
              "\n",
              "    <script>\n",
              "      const buttonEl =\n",
              "        document.querySelector('#df-1b86c129-9af5-4920-a5ab-c77deb12e023 button.colab-df-convert');\n",
              "      buttonEl.style.display =\n",
              "        google.colab.kernel.accessAllowed ? 'block' : 'none';\n",
              "\n",
              "      async function convertToInteractive(key) {\n",
              "        const element = document.querySelector('#df-1b86c129-9af5-4920-a5ab-c77deb12e023');\n",
              "        const dataTable =\n",
              "          await google.colab.kernel.invokeFunction('convertToInteractive',\n",
              "                                                    [key], {});\n",
              "        if (!dataTable) return;\n",
              "\n",
              "        const docLinkHtml = 'Like what you see? Visit the ' +\n",
              "          '<a target=\"_blank\" href=https://colab.research.google.com/notebooks/data_table.ipynb>data table notebook</a>'\n",
              "          + ' to learn more about interactive tables.';\n",
              "        element.innerHTML = '';\n",
              "        dataTable['output_type'] = 'display_data';\n",
              "        await google.colab.output.renderOutput(dataTable, element);\n",
              "        const docLink = document.createElement('div');\n",
              "        docLink.innerHTML = docLinkHtml;\n",
              "        element.appendChild(docLink);\n",
              "      }\n",
              "    </script>\n",
              "  </div>\n",
              "\n",
              "\n",
              "    <div id=\"df-9b03e00d-554b-4766-859a-08e6e89ce3ca\">\n",
              "      <button class=\"colab-df-quickchart\" onclick=\"quickchart('df-9b03e00d-554b-4766-859a-08e6e89ce3ca')\"\n",
              "                title=\"Suggest charts\"\n",
              "                style=\"display:none;\">\n",
              "\n",
              "<svg xmlns=\"http://www.w3.org/2000/svg\" height=\"24px\"viewBox=\"0 0 24 24\"\n",
              "     width=\"24px\">\n",
              "    <g>\n",
              "        <path d=\"M19 3H5c-1.1 0-2 .9-2 2v14c0 1.1.9 2 2 2h14c1.1 0 2-.9 2-2V5c0-1.1-.9-2-2-2zM9 17H7v-7h2v7zm4 0h-2V7h2v10zm4 0h-2v-4h2v4z\"/>\n",
              "    </g>\n",
              "</svg>\n",
              "      </button>\n",
              "\n",
              "<style>\n",
              "  .colab-df-quickchart {\n",
              "      --bg-color: #E8F0FE;\n",
              "      --fill-color: #1967D2;\n",
              "      --hover-bg-color: #E2EBFA;\n",
              "      --hover-fill-color: #174EA6;\n",
              "      --disabled-fill-color: #AAA;\n",
              "      --disabled-bg-color: #DDD;\n",
              "  }\n",
              "\n",
              "  [theme=dark] .colab-df-quickchart {\n",
              "      --bg-color: #3B4455;\n",
              "      --fill-color: #D2E3FC;\n",
              "      --hover-bg-color: #434B5C;\n",
              "      --hover-fill-color: #FFFFFF;\n",
              "      --disabled-bg-color: #3B4455;\n",
              "      --disabled-fill-color: #666;\n",
              "  }\n",
              "\n",
              "  .colab-df-quickchart {\n",
              "    background-color: var(--bg-color);\n",
              "    border: none;\n",
              "    border-radius: 50%;\n",
              "    cursor: pointer;\n",
              "    display: none;\n",
              "    fill: var(--fill-color);\n",
              "    height: 32px;\n",
              "    padding: 0;\n",
              "    width: 32px;\n",
              "  }\n",
              "\n",
              "  .colab-df-quickchart:hover {\n",
              "    background-color: var(--hover-bg-color);\n",
              "    box-shadow: 0 1px 2px rgba(60, 64, 67, 0.3), 0 1px 3px 1px rgba(60, 64, 67, 0.15);\n",
              "    fill: var(--button-hover-fill-color);\n",
              "  }\n",
              "\n",
              "  .colab-df-quickchart-complete:disabled,\n",
              "  .colab-df-quickchart-complete:disabled:hover {\n",
              "    background-color: var(--disabled-bg-color);\n",
              "    fill: var(--disabled-fill-color);\n",
              "    box-shadow: none;\n",
              "  }\n",
              "\n",
              "  .colab-df-spinner {\n",
              "    border: 2px solid var(--fill-color);\n",
              "    border-color: transparent;\n",
              "    border-bottom-color: var(--fill-color);\n",
              "    animation:\n",
              "      spin 1s steps(1) infinite;\n",
              "  }\n",
              "\n",
              "  @keyframes spin {\n",
              "    0% {\n",
              "      border-color: transparent;\n",
              "      border-bottom-color: var(--fill-color);\n",
              "      border-left-color: var(--fill-color);\n",
              "    }\n",
              "    20% {\n",
              "      border-color: transparent;\n",
              "      border-left-color: var(--fill-color);\n",
              "      border-top-color: var(--fill-color);\n",
              "    }\n",
              "    30% {\n",
              "      border-color: transparent;\n",
              "      border-left-color: var(--fill-color);\n",
              "      border-top-color: var(--fill-color);\n",
              "      border-right-color: var(--fill-color);\n",
              "    }\n",
              "    40% {\n",
              "      border-color: transparent;\n",
              "      border-right-color: var(--fill-color);\n",
              "      border-top-color: var(--fill-color);\n",
              "    }\n",
              "    60% {\n",
              "      border-color: transparent;\n",
              "      border-right-color: var(--fill-color);\n",
              "    }\n",
              "    80% {\n",
              "      border-color: transparent;\n",
              "      border-right-color: var(--fill-color);\n",
              "      border-bottom-color: var(--fill-color);\n",
              "    }\n",
              "    90% {\n",
              "      border-color: transparent;\n",
              "      border-bottom-color: var(--fill-color);\n",
              "    }\n",
              "  }\n",
              "</style>\n",
              "\n",
              "      <script>\n",
              "        async function quickchart(key) {\n",
              "          const quickchartButtonEl =\n",
              "            document.querySelector('#' + key + ' button');\n",
              "          quickchartButtonEl.disabled = true;  // To prevent multiple clicks.\n",
              "          quickchartButtonEl.classList.add('colab-df-spinner');\n",
              "          try {\n",
              "            const charts = await google.colab.kernel.invokeFunction(\n",
              "                'suggestCharts', [key], {});\n",
              "          } catch (error) {\n",
              "            console.error('Error during call to suggestCharts:', error);\n",
              "          }\n",
              "          quickchartButtonEl.classList.remove('colab-df-spinner');\n",
              "          quickchartButtonEl.classList.add('colab-df-quickchart-complete');\n",
              "        }\n",
              "        (() => {\n",
              "          let quickchartButtonEl =\n",
              "            document.querySelector('#df-9b03e00d-554b-4766-859a-08e6e89ce3ca button');\n",
              "          quickchartButtonEl.style.display =\n",
              "            google.colab.kernel.accessAllowed ? 'block' : 'none';\n",
              "        })();\n",
              "      </script>\n",
              "    </div>\n",
              "\n",
              "    </div>\n",
              "  </div>\n"
            ],
            "application/vnd.google.colaboratory.intrinsic+json": {
              "type": "dataframe",
              "variable_name": "df",
              "summary": "{\n  \"name\": \"df\",\n  \"rows\": 14940,\n  \"fields\": [\n    {\n      \"column\": \"Unnamed: 0\",\n      \"properties\": {\n        \"dtype\": \"number\",\n        \"std\": 4312,\n        \"min\": 1,\n        \"max\": 14940,\n        \"num_unique_values\": 14940,\n        \"samples\": [\n          5504,\n          3121,\n          12154\n        ],\n        \"semantic_type\": \"\",\n        \"description\": \"\"\n      }\n    },\n    {\n      \"column\": \"X\",\n      \"properties\": {\n        \"dtype\": \"number\",\n        \"std\": 4312,\n        \"min\": 1,\n        \"max\": 14940,\n        \"num_unique_values\": 14940,\n        \"samples\": [\n          5504,\n          3121,\n          12154\n        ],\n        \"semantic_type\": \"\",\n        \"description\": \"\"\n      }\n    },\n    {\n      \"column\": \"text\",\n      \"properties\": {\n        \"dtype\": \"category\",\n        \"num_unique_values\": 5147,\n        \"samples\": [\n          \". MVenkaiahNaidu blames opposition for not allowing #Parliament to function by creating uproar over #demonetization issue.\\r\\n\\r\\n\\u0097 All India Rad\\u0085\",\n          \"@mpvadodara @CMOGuj <ed><U+00A0><U+00BD><ed><U+00B9><U+008F> Please Include World Class Milkbar AMUL &amp; Baroda Dairy's Nutritious Products to Promote Agric\\u0085 https://t.co/1nzGkSBJsl\",\n          \"#DeMonetization - Finally - No country at such a large scale has gone ahead with such a move. Give it to all us citizens who bore the pain\"\n        ],\n        \"semantic_type\": \"\",\n        \"description\": \"\"\n      }\n    },\n    {\n      \"column\": \"favorited\",\n      \"properties\": {\n        \"dtype\": \"boolean\",\n        \"num_unique_values\": 1,\n        \"samples\": [\n          false\n        ],\n        \"semantic_type\": \"\",\n        \"description\": \"\"\n      }\n    },\n    {\n      \"column\": \"favoriteCount\",\n      \"properties\": {\n        \"dtype\": \"number\",\n        \"std\": 28,\n        \"min\": 0,\n        \"max\": 3166,\n        \"num_unique_values\": 85,\n        \"samples\": [\n          46\n        ],\n        \"semantic_type\": \"\",\n        \"description\": \"\"\n      }\n    },\n    {\n      \"column\": \"replyToSN\",\n      \"properties\": {\n        \"dtype\": \"category\",\n        \"num_unique_values\": 673,\n        \"samples\": [\n          \"anshud2843\"\n        ],\n        \"semantic_type\": \"\",\n        \"description\": \"\"\n      }\n    },\n    {\n      \"column\": \"created\",\n      \"properties\": {\n        \"dtype\": \"object\",\n        \"num_unique_values\": 14133,\n        \"samples\": [\n          \"2016-11-22 11:47:10\"\n        ],\n        \"semantic_type\": \"\",\n        \"description\": \"\"\n      }\n    },\n    {\n      \"column\": \"truncated\",\n      \"properties\": {\n        \"dtype\": \"boolean\",\n        \"num_unique_values\": 2,\n        \"samples\": [\n          true\n        ],\n        \"semantic_type\": \"\",\n        \"description\": \"\"\n      }\n    },\n    {\n      \"column\": \"replyToSID\",\n      \"properties\": {\n        \"dtype\": \"number\",\n        \"std\": 3.8802597786367544e+16,\n        \"min\": 22096326007.0,\n        \"max\": 8.554541262760837e+17,\n        \"num_unique_values\": 834,\n        \"samples\": [\n          8.531224284735488e+17\n        ],\n        \"semantic_type\": \"\",\n        \"description\": \"\"\n      }\n    },\n    {\n      \"column\": \"id\",\n      \"properties\": {\n        \"dtype\": \"number\",\n        \"std\": 2.6103405589334452e+16,\n        \"min\": 8.010167637227969e+17,\n        \"max\": 8.554728794078167e+17,\n        \"num_unique_values\": 14940,\n        \"samples\": [\n          8.011364320561478e+17\n        ],\n        \"semantic_type\": \"\",\n        \"description\": \"\"\n      }\n    },\n    {\n      \"column\": \"replyToUID\",\n      \"properties\": {\n        \"dtype\": \"number\",\n        \"std\": 1.7969122325494806e+17,\n        \"min\": 1917731.0,\n        \"max\": 8.542509997662413e+17,\n        \"num_unique_values\": 673,\n        \"samples\": [\n          1602416263.0\n        ],\n        \"semantic_type\": \"\",\n        \"description\": \"\"\n      }\n    },\n    {\n      \"column\": \"statusSource\",\n      \"properties\": {\n        \"dtype\": \"category\",\n        \"num_unique_values\": 144,\n        \"samples\": [\n          \"<a href=\\\"https://github.com/mariotaku/twidere/\\\" rel=\\\"nofollow\\\">Twidere for Android #7</a>\"\n        ],\n        \"semantic_type\": \"\",\n        \"description\": \"\"\n      }\n    },\n    {\n      \"column\": \"screenName\",\n      \"properties\": {\n        \"dtype\": \"string\",\n        \"num_unique_values\": 11259,\n        \"samples\": [\n          \"malstronikus\"\n        ],\n        \"semantic_type\": \"\",\n        \"description\": \"\"\n      }\n    },\n    {\n      \"column\": \"retweetCount\",\n      \"properties\": {\n        \"dtype\": \"number\",\n        \"std\": 411,\n        \"min\": 0,\n        \"max\": 5170,\n        \"num_unique_values\": 220,\n        \"samples\": [\n          456\n        ],\n        \"semantic_type\": \"\",\n        \"description\": \"\"\n      }\n    },\n    {\n      \"column\": \"isRetweet\",\n      \"properties\": {\n        \"dtype\": \"boolean\",\n        \"num_unique_values\": 2,\n        \"samples\": [\n          false\n        ],\n        \"semantic_type\": \"\",\n        \"description\": \"\"\n      }\n    },\n    {\n      \"column\": \"retweeted\",\n      \"properties\": {\n        \"dtype\": \"boolean\",\n        \"num_unique_values\": 1,\n        \"samples\": [\n          false\n        ],\n        \"semantic_type\": \"\",\n        \"description\": \"\"\n      }\n    }\n  ]\n}"
            }
          },
          "metadata": {},
          "execution_count": 1
        }
      ]
    },
    {
      "cell_type": "code",
      "metadata": {
        "id": "weuH_j1dujiM",
        "colab": {
          "base_uri": "https://localhost:8080/"
        },
        "outputId": "2381672d-6d6f-41ff-ceae-1af919365f67"
      },
      "source": [
        "# Looking at some Tweets\n",
        "for index, tweet in enumerate(df[\"text\"][10:15]):\n",
        "    print(index+1,\".\",tweet)"
      ],
      "execution_count": 2,
      "outputs": [
        {
          "output_type": "stream",
          "name": "stdout",
          "text": [
            "1 . Many opposition leaders are with @narendramodi on the #Demonetization \r\n",
            "And respect their decision,but support opposition just b'coz of party\n",
            "2 . RT @Joydas: Question in Narendra Modi App where PM is taking feedback if people support his #DeMonetization strategy https://t.co/pYgK8Rmg7r\n",
            "3 . @Jaggesh2 Bharat band on 28??<ed><U+00A0><U+00BD><ed><U+00B8><U+0082>Those who  are protesting #demonetization  are all different party leaders.\n",
            "4 . RT @Atheist_Krishna: The effect of #Demonetization !!\r\n",
            ". https://t.co/A8of7zh2f5\n",
            "5 . RT @sona2905: When I explained #Demonetization to myself and tried to put it down in my words which are not laced with any heavy technical\n"
          ]
        }
      ]
    },
    {
      "cell_type": "markdown",
      "metadata": {
        "id": "AtyGrQGjujiV"
      },
      "source": [
        "## 2. Regex for Cleaning Text Data"
      ]
    },
    {
      "cell_type": "code",
      "metadata": {
        "id": "6d09OY74ujiY"
      },
      "source": [
        "import re"
      ],
      "execution_count": 3,
      "outputs": []
    },
    {
      "cell_type": "markdown",
      "metadata": {
        "id": "OjgVp4Vnujif"
      },
      "source": [
        "### a. Removing `RT`"
      ]
    },
    {
      "cell_type": "code",
      "metadata": {
        "scrolled": true,
        "id": "KNhY2zWBujih",
        "colab": {
          "base_uri": "https://localhost:8080/"
        },
        "outputId": "b882a028-f94f-4b5c-ba08-ef92367e72b2"
      },
      "source": [
        "# Removing RT from a single Tweet\n",
        "text = \"RT @Joydas: Question in Narendra Modi App where PM is taking feedback if people support his #DeMonetization strategy https://t.co/pYgK8Rmg7r\"\n",
        "clean_text = re.sub('RT ','', text)\n",
        "\n",
        "print(\"Text before:\\n\", text)\n",
        "print(\"Text after:\\n\", clean_text)"
      ],
      "execution_count": 4,
      "outputs": [
        {
          "output_type": "stream",
          "name": "stdout",
          "text": [
            "Text before:\n",
            " RT @Joydas: Question in Narendra Modi App where PM is taking feedback if people support his #DeMonetization strategy https://t.co/pYgK8Rmg7r\n",
            "Text after:\n",
            " @Joydas: Question in Narendra Modi App where PM is taking feedback if people support his #DeMonetization strategy https://t.co/pYgK8Rmg7r\n"
          ]
        }
      ]
    },
    {
      "cell_type": "code",
      "metadata": {
        "id": "GiIlLK4pujip",
        "colab": {
          "base_uri": "https://localhost:8080/",
          "height": 241
        },
        "outputId": "7253c5b7-2603-4715-b8e5-3274203080b1"
      },
      "source": [
        "# Tweets before removal\n",
        "df['text'].head()"
      ],
      "execution_count": 5,
      "outputs": [
        {
          "output_type": "execute_result",
          "data": {
            "text/plain": [
              "0    RT @rssurjewala: Critical question: Was PayTM ...\n",
              "1    RT @Hemant_80: Did you vote on #Demonetization...\n",
              "2    RT @roshankar: Former FinSec, RBI Dy Governor,...\n",
              "3    RT @ANI_news: Gurugram (Haryana): Post office ...\n",
              "4    RT @satishacharya: Reddy Wedding! @mail_today ...\n",
              "Name: text, dtype: object"
            ],
            "text/html": [
              "<div>\n",
              "<style scoped>\n",
              "    .dataframe tbody tr th:only-of-type {\n",
              "        vertical-align: middle;\n",
              "    }\n",
              "\n",
              "    .dataframe tbody tr th {\n",
              "        vertical-align: top;\n",
              "    }\n",
              "\n",
              "    .dataframe thead th {\n",
              "        text-align: right;\n",
              "    }\n",
              "</style>\n",
              "<table border=\"1\" class=\"dataframe\">\n",
              "  <thead>\n",
              "    <tr style=\"text-align: right;\">\n",
              "      <th></th>\n",
              "      <th>text</th>\n",
              "    </tr>\n",
              "  </thead>\n",
              "  <tbody>\n",
              "    <tr>\n",
              "      <th>0</th>\n",
              "      <td>RT @rssurjewala: Critical question: Was PayTM ...</td>\n",
              "    </tr>\n",
              "    <tr>\n",
              "      <th>1</th>\n",
              "      <td>RT @Hemant_80: Did you vote on #Demonetization...</td>\n",
              "    </tr>\n",
              "    <tr>\n",
              "      <th>2</th>\n",
              "      <td>RT @roshankar: Former FinSec, RBI Dy Governor,...</td>\n",
              "    </tr>\n",
              "    <tr>\n",
              "      <th>3</th>\n",
              "      <td>RT @ANI_news: Gurugram (Haryana): Post office ...</td>\n",
              "    </tr>\n",
              "    <tr>\n",
              "      <th>4</th>\n",
              "      <td>RT @satishacharya: Reddy Wedding! @mail_today ...</td>\n",
              "    </tr>\n",
              "  </tbody>\n",
              "</table>\n",
              "</div><br><label><b>dtype:</b> object</label>"
            ]
          },
          "metadata": {},
          "execution_count": 5
        }
      ]
    },
    {
      "cell_type": "code",
      "metadata": {
        "id": "e_sg0D20ujix"
      },
      "source": [
        "# Removing RT from all the tweets\n",
        "df['text']=df['text'].apply(lambda x: re.sub('RT ','',x))"
      ],
      "execution_count": 6,
      "outputs": []
    },
    {
      "cell_type": "code",
      "metadata": {
        "id": "Q68p9HTauji3",
        "colab": {
          "base_uri": "https://localhost:8080/",
          "height": 241
        },
        "outputId": "0f1f70b9-30e0-40c5-9e7e-13995b6e30e7"
      },
      "source": [
        "# Tweets after removal\n",
        "df['text'].head()"
      ],
      "execution_count": 7,
      "outputs": [
        {
          "output_type": "execute_result",
          "data": {
            "text/plain": [
              "0    @rssurjewala: Critical question: Was PayTM inf...\n",
              "1    @Hemant_80: Did you vote on #Demonetization on...\n",
              "2    @roshankar: Former FinSec, RBI Dy Governor, CB...\n",
              "3    @ANI_news: Gurugram (Haryana): Post office emp...\n",
              "4    @satishacharya: Reddy Wedding! @mail_today car...\n",
              "Name: text, dtype: object"
            ],
            "text/html": [
              "<div>\n",
              "<style scoped>\n",
              "    .dataframe tbody tr th:only-of-type {\n",
              "        vertical-align: middle;\n",
              "    }\n",
              "\n",
              "    .dataframe tbody tr th {\n",
              "        vertical-align: top;\n",
              "    }\n",
              "\n",
              "    .dataframe thead th {\n",
              "        text-align: right;\n",
              "    }\n",
              "</style>\n",
              "<table border=\"1\" class=\"dataframe\">\n",
              "  <thead>\n",
              "    <tr style=\"text-align: right;\">\n",
              "      <th></th>\n",
              "      <th>text</th>\n",
              "    </tr>\n",
              "  </thead>\n",
              "  <tbody>\n",
              "    <tr>\n",
              "      <th>0</th>\n",
              "      <td>@rssurjewala: Critical question: Was PayTM inf...</td>\n",
              "    </tr>\n",
              "    <tr>\n",
              "      <th>1</th>\n",
              "      <td>@Hemant_80: Did you vote on #Demonetization on...</td>\n",
              "    </tr>\n",
              "    <tr>\n",
              "      <th>2</th>\n",
              "      <td>@roshankar: Former FinSec, RBI Dy Governor, CB...</td>\n",
              "    </tr>\n",
              "    <tr>\n",
              "      <th>3</th>\n",
              "      <td>@ANI_news: Gurugram (Haryana): Post office emp...</td>\n",
              "    </tr>\n",
              "    <tr>\n",
              "      <th>4</th>\n",
              "      <td>@satishacharya: Reddy Wedding! @mail_today car...</td>\n",
              "    </tr>\n",
              "  </tbody>\n",
              "</table>\n",
              "</div><br><label><b>dtype:</b> object</label>"
            ]
          },
          "metadata": {},
          "execution_count": 7
        }
      ]
    },
    {
      "cell_type": "markdown",
      "metadata": {
        "id": "sINitCy_uji8"
      },
      "source": [
        "### b. Removing `<U+..>` like symbols"
      ]
    },
    {
      "cell_type": "code",
      "metadata": {
        "scrolled": true,
        "id": "2Y1wOhYHuji-",
        "colab": {
          "base_uri": "https://localhost:8080/"
        },
        "outputId": "e1299b82-92b5-41a4-f575-c2acb493f1ff"
      },
      "source": [
        "# Removing <U+..> like symbols from a single tweet\n",
        "text = \"@Jaggesh2 Bharat band on 28??<ed><U+00A0><U+00BD><ed><U+00B8><U+0082>Those who  are protesting #demonetization  are all different party leaders\"\n",
        "clean_text = re.sub('<U\\+[A-Z0-9]+>','', text)\n",
        "\n",
        "print(\"Text before:\\n\", text)\n",
        "print(\"Text after:\\n\", clean_text)"
      ],
      "execution_count": 8,
      "outputs": [
        {
          "output_type": "stream",
          "name": "stdout",
          "text": [
            "Text before:\n",
            " @Jaggesh2 Bharat band on 28??<ed><U+00A0><U+00BD><ed><U+00B8><U+0082>Those who  are protesting #demonetization  are all different party leaders\n",
            "Text after:\n",
            " @Jaggesh2 Bharat band on 28??<ed><ed>Those who  are protesting #demonetization  are all different party leaders\n"
          ]
        }
      ]
    },
    {
      "cell_type": "markdown",
      "metadata": {
        "id": "TSNVcp5RujjE"
      },
      "source": [
        "**Note** that although we have gotten rid of majority of symbols, `<ed>` is still present. I leave this as an exercise for you to try out."
      ]
    },
    {
      "cell_type": "code",
      "metadata": {
        "id": "IUqQlbBWujjG"
      },
      "source": [
        "# Removing <U+..> like symbols from all the tweets\n",
        "df['text']=df['text'].apply(lambda x: re.sub('<U\\+[A-Z0-9]+>', '', x))"
      ],
      "execution_count": 9,
      "outputs": []
    },
    {
      "cell_type": "markdown",
      "metadata": {
        "id": "zQIbv4blujjL"
      },
      "source": [
        "### c. Fixing the `&` and `&amp;`"
      ]
    },
    {
      "cell_type": "code",
      "metadata": {
        "id": "xLK7LE-7ujjM",
        "colab": {
          "base_uri": "https://localhost:8080/"
        },
        "outputId": "1d3b8b58-ea5b-4f4e-a049-c57d4f12b528"
      },
      "source": [
        "# Replacing &amp with & in a single tweet\n",
        "text = \"RT @harshkkapoor: #DeMonetization survey results after 24 hours 5Lacs opinions Amazing response &amp; Commitment in fight against Blackmoney\"\n",
        "clean_text = re.sub('&amp;','&', text)\n",
        "\n",
        "print(\"Text before:\\n\", text)\n",
        "print(\"Text after:\\n\", clean_text)"
      ],
      "execution_count": 10,
      "outputs": [
        {
          "output_type": "stream",
          "name": "stdout",
          "text": [
            "Text before:\n",
            " RT @harshkkapoor: #DeMonetization survey results after 24 hours 5Lacs opinions Amazing response &amp; Commitment in fight against Blackmoney\n",
            "Text after:\n",
            " RT @harshkkapoor: #DeMonetization survey results after 24 hours 5Lacs opinions Amazing response & Commitment in fight against Blackmoney\n"
          ]
        }
      ]
    },
    {
      "cell_type": "code",
      "metadata": {
        "id": "IBiob-YlujjT"
      },
      "source": [
        "# Replacing &amp with & in all the tweets\n",
        "df['text']=df['text'].apply(lambda x: re.sub('&amp', '&', x))"
      ],
      "execution_count": 11,
      "outputs": []
    },
    {
      "cell_type": "markdown",
      "metadata": {
        "id": "GMo38GVFujja"
      },
      "source": [
        "## 3. Regex for Text Data Extraction\n",
        "### a. Extracting platform type of tweets"
      ]
    },
    {
      "cell_type": "code",
      "metadata": {
        "id": "jEJO4BGhujjc"
      },
      "source": [
        "# Getting number of tweets per platform type\n",
        "platform_count = df[\"statusSource\"].value_counts()"
      ],
      "execution_count": 12,
      "outputs": []
    },
    {
      "cell_type": "code",
      "metadata": {
        "scrolled": true,
        "id": "PFQ7XI7cujjh",
        "colab": {
          "base_uri": "https://localhost:8080/",
          "height": 490
        },
        "outputId": "2baf8f8b-9f0f-4c93-d298-7b3c84010e74"
      },
      "source": [
        "platform_count"
      ],
      "execution_count": 14,
      "outputs": [
        {
          "output_type": "execute_result",
          "data": {
            "text/plain": [
              "statusSource\n",
              "<a href=\"http://twitter.com/download/android\" rel=\"nofollow\">Twitter for Android</a>                                        7642\n",
              "<a href=\"http://twitter.com\" rel=\"nofollow\">Twitter Web Client</a>                                                          2548\n",
              "<a href=\"http://twitter.com/download/iphone\" rel=\"nofollow\">Twitter for iPhone</a>                                          2093\n",
              "<a href=\"https://about.twitter.com/products/tweetdeck\" rel=\"nofollow\">TweetDeck</a>                                          492\n",
              "<a href=\"https://mobile.twitter.com\" rel=\"nofollow\">Twitter Lite</a>                                                         263\n",
              "                                                                                                                            ... \n",
              "<a href=\"http://www.straitwaytruth.com\" rel=\"nofollow\">Charles Dowell Jr</a>                                                   1\n",
              "<a href=\"https://play.google.com/store/apps/details?id=de.mobileways.gravityforever\" rel=\"nofollow\">Gravity Forever!</a>       1\n",
              "<a href=\"http://www.nationalherald.net\" rel=\"nofollow\">National Herald News</a>                                                1\n",
              "<a href=\"http://officeoffice.co/\" rel=\"nofollow\">scifi_ebooks</a>                                                              1\n",
              "<a href=\"https://twitter.com/download/android\" rel=\"nofollow\">Twitter for  Android</a>                                         1\n",
              "Name: count, Length: 144, dtype: int64"
            ],
            "text/html": [
              "<div>\n",
              "<style scoped>\n",
              "    .dataframe tbody tr th:only-of-type {\n",
              "        vertical-align: middle;\n",
              "    }\n",
              "\n",
              "    .dataframe tbody tr th {\n",
              "        vertical-align: top;\n",
              "    }\n",
              "\n",
              "    .dataframe thead th {\n",
              "        text-align: right;\n",
              "    }\n",
              "</style>\n",
              "<table border=\"1\" class=\"dataframe\">\n",
              "  <thead>\n",
              "    <tr style=\"text-align: right;\">\n",
              "      <th></th>\n",
              "      <th>count</th>\n",
              "    </tr>\n",
              "    <tr>\n",
              "      <th>statusSource</th>\n",
              "      <th></th>\n",
              "    </tr>\n",
              "  </thead>\n",
              "  <tbody>\n",
              "    <tr>\n",
              "      <th>&lt;a href=\"http://twitter.com/download/android\" rel=\"nofollow\"&gt;Twitter for Android&lt;/a&gt;</th>\n",
              "      <td>7642</td>\n",
              "    </tr>\n",
              "    <tr>\n",
              "      <th>&lt;a href=\"http://twitter.com\" rel=\"nofollow\"&gt;Twitter Web Client&lt;/a&gt;</th>\n",
              "      <td>2548</td>\n",
              "    </tr>\n",
              "    <tr>\n",
              "      <th>&lt;a href=\"http://twitter.com/download/iphone\" rel=\"nofollow\"&gt;Twitter for iPhone&lt;/a&gt;</th>\n",
              "      <td>2093</td>\n",
              "    </tr>\n",
              "    <tr>\n",
              "      <th>&lt;a href=\"https://about.twitter.com/products/tweetdeck\" rel=\"nofollow\"&gt;TweetDeck&lt;/a&gt;</th>\n",
              "      <td>492</td>\n",
              "    </tr>\n",
              "    <tr>\n",
              "      <th>&lt;a href=\"https://mobile.twitter.com\" rel=\"nofollow\"&gt;Twitter Lite&lt;/a&gt;</th>\n",
              "      <td>263</td>\n",
              "    </tr>\n",
              "    <tr>\n",
              "      <th>...</th>\n",
              "      <td>...</td>\n",
              "    </tr>\n",
              "    <tr>\n",
              "      <th>&lt;a href=\"http://www.straitwaytruth.com\" rel=\"nofollow\"&gt;Charles Dowell Jr&lt;/a&gt;</th>\n",
              "      <td>1</td>\n",
              "    </tr>\n",
              "    <tr>\n",
              "      <th>&lt;a href=\"https://play.google.com/store/apps/details?id=de.mobileways.gravityforever\" rel=\"nofollow\"&gt;Gravity Forever!&lt;/a&gt;</th>\n",
              "      <td>1</td>\n",
              "    </tr>\n",
              "    <tr>\n",
              "      <th>&lt;a href=\"http://www.nationalherald.net\" rel=\"nofollow\"&gt;National Herald News&lt;/a&gt;</th>\n",
              "      <td>1</td>\n",
              "    </tr>\n",
              "    <tr>\n",
              "      <th>&lt;a href=\"http://officeoffice.co/\" rel=\"nofollow\"&gt;scifi_ebooks&lt;/a&gt;</th>\n",
              "      <td>1</td>\n",
              "    </tr>\n",
              "    <tr>\n",
              "      <th>&lt;a href=\"https://twitter.com/download/android\" rel=\"nofollow\"&gt;Twitter for  Android&lt;/a&gt;</th>\n",
              "      <td>1</td>\n",
              "    </tr>\n",
              "  </tbody>\n",
              "</table>\n",
              "<p>144 rows × 1 columns</p>\n",
              "</div><br><label><b>dtype:</b> int64</label>"
            ]
          },
          "metadata": {},
          "execution_count": 14
        }
      ]
    },
    {
      "cell_type": "code",
      "metadata": {
        "id": "yPtNZx1hujjn",
        "colab": {
          "base_uri": "https://localhost:8080/",
          "height": 523
        },
        "outputId": "97e76886-a625-456f-e83f-55fe048e8e62"
      },
      "source": [
        "#List platforms that have more than 100 tweets\n",
        "top_platforms = platform_count.loc[platform_count>100]\n",
        "top_platforms"
      ],
      "execution_count": 15,
      "outputs": [
        {
          "output_type": "execute_result",
          "data": {
            "text/plain": [
              "statusSource\n",
              "<a href=\"http://twitter.com/download/android\" rel=\"nofollow\">Twitter for Android</a>    7642\n",
              "<a href=\"http://twitter.com\" rel=\"nofollow\">Twitter Web Client</a>                      2548\n",
              "<a href=\"http://twitter.com/download/iphone\" rel=\"nofollow\">Twitter for iPhone</a>      2093\n",
              "<a href=\"https://about.twitter.com/products/tweetdeck\" rel=\"nofollow\">TweetDeck</a>      492\n",
              "<a href=\"https://mobile.twitter.com\" rel=\"nofollow\">Twitter Lite</a>                     263\n",
              "<a href=\"https://mobile.twitter.com\" rel=\"nofollow\">Mobile Web (M5)</a>                  178\n",
              "<a href=\"http://www.facebook.com/twitter\" rel=\"nofollow\">Facebook</a>                    167\n",
              "<a href=\"http://twitter.com/#!/download/ipad\" rel=\"nofollow\">Twitter for iPad</a>        165\n",
              "<a href=\"http://www.twitter.com\" rel=\"nofollow\">Twitter for Windows Phone</a>            139\n",
              "<a href=\"http://onlywire.com/\" rel=\"nofollow\">OnlyWire / Official App</a>                136\n",
              "<a href=\"http://www.twitter.com\" rel=\"nofollow\">Twitter for Windows</a>                  110\n",
              "<a href=\"https://mobile.twitter.com\" rel=\"nofollow\">Mobile Web (M2)</a>                  105\n",
              "<a href=\"http://www.google.com/\" rel=\"nofollow\">Google</a>                               101\n",
              "Name: count, dtype: int64"
            ],
            "text/html": [
              "<div>\n",
              "<style scoped>\n",
              "    .dataframe tbody tr th:only-of-type {\n",
              "        vertical-align: middle;\n",
              "    }\n",
              "\n",
              "    .dataframe tbody tr th {\n",
              "        vertical-align: top;\n",
              "    }\n",
              "\n",
              "    .dataframe thead th {\n",
              "        text-align: right;\n",
              "    }\n",
              "</style>\n",
              "<table border=\"1\" class=\"dataframe\">\n",
              "  <thead>\n",
              "    <tr style=\"text-align: right;\">\n",
              "      <th></th>\n",
              "      <th>count</th>\n",
              "    </tr>\n",
              "    <tr>\n",
              "      <th>statusSource</th>\n",
              "      <th></th>\n",
              "    </tr>\n",
              "  </thead>\n",
              "  <tbody>\n",
              "    <tr>\n",
              "      <th>&lt;a href=\"http://twitter.com/download/android\" rel=\"nofollow\"&gt;Twitter for Android&lt;/a&gt;</th>\n",
              "      <td>7642</td>\n",
              "    </tr>\n",
              "    <tr>\n",
              "      <th>&lt;a href=\"http://twitter.com\" rel=\"nofollow\"&gt;Twitter Web Client&lt;/a&gt;</th>\n",
              "      <td>2548</td>\n",
              "    </tr>\n",
              "    <tr>\n",
              "      <th>&lt;a href=\"http://twitter.com/download/iphone\" rel=\"nofollow\"&gt;Twitter for iPhone&lt;/a&gt;</th>\n",
              "      <td>2093</td>\n",
              "    </tr>\n",
              "    <tr>\n",
              "      <th>&lt;a href=\"https://about.twitter.com/products/tweetdeck\" rel=\"nofollow\"&gt;TweetDeck&lt;/a&gt;</th>\n",
              "      <td>492</td>\n",
              "    </tr>\n",
              "    <tr>\n",
              "      <th>&lt;a href=\"https://mobile.twitter.com\" rel=\"nofollow\"&gt;Twitter Lite&lt;/a&gt;</th>\n",
              "      <td>263</td>\n",
              "    </tr>\n",
              "    <tr>\n",
              "      <th>&lt;a href=\"https://mobile.twitter.com\" rel=\"nofollow\"&gt;Mobile Web (M5)&lt;/a&gt;</th>\n",
              "      <td>178</td>\n",
              "    </tr>\n",
              "    <tr>\n",
              "      <th>&lt;a href=\"http://www.facebook.com/twitter\" rel=\"nofollow\"&gt;Facebook&lt;/a&gt;</th>\n",
              "      <td>167</td>\n",
              "    </tr>\n",
              "    <tr>\n",
              "      <th>&lt;a href=\"http://twitter.com/#!/download/ipad\" rel=\"nofollow\"&gt;Twitter for iPad&lt;/a&gt;</th>\n",
              "      <td>165</td>\n",
              "    </tr>\n",
              "    <tr>\n",
              "      <th>&lt;a href=\"http://www.twitter.com\" rel=\"nofollow\"&gt;Twitter for Windows Phone&lt;/a&gt;</th>\n",
              "      <td>139</td>\n",
              "    </tr>\n",
              "    <tr>\n",
              "      <th>&lt;a href=\"http://onlywire.com/\" rel=\"nofollow\"&gt;OnlyWire / Official App&lt;/a&gt;</th>\n",
              "      <td>136</td>\n",
              "    </tr>\n",
              "    <tr>\n",
              "      <th>&lt;a href=\"http://www.twitter.com\" rel=\"nofollow\"&gt;Twitter for Windows&lt;/a&gt;</th>\n",
              "      <td>110</td>\n",
              "    </tr>\n",
              "    <tr>\n",
              "      <th>&lt;a href=\"https://mobile.twitter.com\" rel=\"nofollow\"&gt;Mobile Web (M2)&lt;/a&gt;</th>\n",
              "      <td>105</td>\n",
              "    </tr>\n",
              "    <tr>\n",
              "      <th>&lt;a href=\"http://www.google.com/\" rel=\"nofollow\"&gt;Google&lt;/a&gt;</th>\n",
              "      <td>101</td>\n",
              "    </tr>\n",
              "  </tbody>\n",
              "</table>\n",
              "</div><br><label><b>dtype:</b> int64</label>"
            ]
          },
          "metadata": {},
          "execution_count": 15
        }
      ]
    },
    {
      "cell_type": "code",
      "metadata": {
        "id": "uI6HYcpaujjt",
        "colab": {
          "base_uri": "https://localhost:8080/"
        },
        "outputId": "2c78ccff-10aa-40d9-8a17-b2b61b517722"
      },
      "source": [
        "import pandas as pd\n",
        "import re\n",
        "\n",
        "# This is your current Series\n",
        "top_platforms = top_platforms  # (assuming you already have it)\n",
        "\n",
        "# Step 1: Define platform_type function\n",
        "def platform_type(x):\n",
        "    ser = re.search(r\"android|iphone|web|windows|mobile|google|facebook|ipad|tweetdeck|onlywire\", str(x), re.IGNORECASE)\n",
        "    if ser:\n",
        "        return ser.group().lower()\n",
        "    else:\n",
        "        return None\n",
        "\n",
        "# Step 2: Apply platform_type to the Series\n",
        "extracted_platforms = top_platforms['statusSource'].apply(platform_type) # Change is here! Apply to the 'statusSource' column.\n",
        "\n",
        "# Step 3: Combine original and extracted into a DataFrame\n",
        "df_platforms = pd.DataFrame({\n",
        "    'original_platform': top_platforms['statusSource'].values, # Change is here! Access the 'statusSource' column.\n",
        "    'extracted_platform': extracted_platforms.values\n",
        "})\n",
        "\n",
        "# Step 4: View result\n",
        "print(df_platforms)\n",
        "\n",
        "\n",
        "\n",
        "\n"
      ],
      "execution_count": 29,
      "outputs": [
        {
          "output_type": "stream",
          "name": "stdout",
          "text": [
            "                                    original_platform extracted_platform\n",
            "0   <a href=\"http://twitter.com/download/android\" ...            android\n",
            "1   <a href=\"http://twitter.com\" rel=\"nofollow\">Tw...                web\n",
            "2   <a href=\"http://twitter.com/download/iphone\" r...             iphone\n",
            "3   <a href=\"https://about.twitter.com/products/tw...          tweetdeck\n",
            "4   <a href=\"https://mobile.twitter.com\" rel=\"nofo...             mobile\n",
            "5   <a href=\"https://mobile.twitter.com\" rel=\"nofo...             mobile\n",
            "6   <a href=\"http://www.facebook.com/twitter\" rel=...           facebook\n",
            "7   <a href=\"http://twitter.com/#!/download/ipad\" ...               ipad\n",
            "8   <a href=\"http://www.twitter.com\" rel=\"nofollow...            windows\n",
            "9   <a href=\"http://onlywire.com/\" rel=\"nofollow\">...           onlywire\n",
            "10  <a href=\"http://www.twitter.com\" rel=\"nofollow...            windows\n",
            "11  <a href=\"https://mobile.twitter.com\" rel=\"nofo...             mobile\n",
            "12  <a href=\"http://www.google.com/\" rel=\"nofollow...             google\n"
          ]
        }
      ]
    },
    {
      "cell_type": "markdown",
      "metadata": {
        "id": "GPYLjXMPujjz"
      },
      "source": [
        "### b. Extracting hashtags from the tweets"
      ]
    },
    {
      "cell_type": "code",
      "metadata": {
        "id": "q5YAxA2Bujj0",
        "colab": {
          "base_uri": "https://localhost:8080/"
        },
        "outputId": "881925e3-2b80-4f7d-e76a-bdc04f2c32bf"
      },
      "source": [
        "# Extract first hashtag from a tweet\n",
        "text = \"RT @Atheist_Krishna: The effect of #Demonetization !!\\r\\n. https://t.co/A8of7zh2f5\"\n",
        "hashtag = re.search('#\\w+', text)\n",
        "\n",
        "print(\"Tweet:\\n\", text)\n",
        "print(\"Hashtag:\\n\", hashtag.group())"
      ],
      "execution_count": 30,
      "outputs": [
        {
          "output_type": "stream",
          "name": "stdout",
          "text": [
            "Tweet:\n",
            " RT @Atheist_Krishna: The effect of #Demonetization !!\r\n",
            ". https://t.co/A8of7zh2f5\n",
            "Hashtag:\n",
            " #Demonetization\n"
          ]
        }
      ]
    },
    {
      "cell_type": "code",
      "metadata": {
        "id": "3v8pCJY_ujj4",
        "colab": {
          "base_uri": "https://localhost:8080/",
          "height": 106
        },
        "outputId": "5f9f6ca5-aa60-40d9-c71b-c9db9db2fd8c"
      },
      "source": [
        "# Extract multiple hastags from a tweet\n",
        "text = \"\"\"RT @kapil_kausik: #Doltiwal I mean #JaiChandKejriwal is \"hurt\" by #Demonetization as the same has rendered USELESS <ed><U+00A0><U+00BD><ed><U+00B1><U+0089> \"acquired funds\" No wo\"\"\"\n",
        "hashtags = re.findall('#\\w+', text)\n",
        "\n",
        "print(\"Tweet:\\n\", text)\n",
        "print(\"Hashtag:\\n\", hashtags)"
      ],
      "execution_count": null,
      "outputs": [
        {
          "output_type": "stream",
          "text": [
            "Tweet:\n",
            " RT @kapil_kausik: #Doltiwal I mean #JaiChandKejriwal is \"hurt\" by #Demonetization as the same has rendered USELESS <ed><U+00A0><U+00BD><ed><U+00B1><U+0089> \"acquired funds\" No wo\n",
            "Hashtag:\n",
            " ['#Doltiwal', '#JaiChandKejriwal', '#Demonetization']\n"
          ],
          "name": "stdout"
        }
      ]
    },
    {
      "cell_type": "code",
      "metadata": {
        "id": "ylPqdl0Lujj9"
      },
      "source": [
        "df['hashtags']=df['text'].apply(lambda x: re.findall('#\\w+', x))"
      ],
      "execution_count": 31,
      "outputs": []
    },
    {
      "cell_type": "code",
      "metadata": {
        "id": "Hvv7NXB4ujkC",
        "colab": {
          "base_uri": "https://localhost:8080/",
          "height": 206
        },
        "outputId": "b41fa425-3ce8-417d-82f8-f5fa55a28ec1"
      },
      "source": [
        "df[['text','hashtags']].head()"
      ],
      "execution_count": 32,
      "outputs": [
        {
          "output_type": "execute_result",
          "data": {
            "text/plain": [
              "                                                text  \\\n",
              "0  @rssurjewala: Critical question: Was PayTM inf...   \n",
              "1  @Hemant_80: Did you vote on #Demonetization on...   \n",
              "2  @roshankar: Former FinSec, RBI Dy Governor, CB...   \n",
              "3  @ANI_news: Gurugram (Haryana): Post office emp...   \n",
              "4  @satishacharya: Reddy Wedding! @mail_today car...   \n",
              "\n",
              "                           hashtags  \n",
              "0                 [#Demonetization]  \n",
              "1                 [#Demonetization]  \n",
              "2                 [#Demonetization]  \n",
              "3                 [#demonetization]  \n",
              "4  [#demonetization, #ReddyWedding]  "
            ],
            "text/html": [
              "\n",
              "  <div id=\"df-f312be7a-8759-4a8f-a3b7-2e5a18d57666\" class=\"colab-df-container\">\n",
              "    <div>\n",
              "<style scoped>\n",
              "    .dataframe tbody tr th:only-of-type {\n",
              "        vertical-align: middle;\n",
              "    }\n",
              "\n",
              "    .dataframe tbody tr th {\n",
              "        vertical-align: top;\n",
              "    }\n",
              "\n",
              "    .dataframe thead th {\n",
              "        text-align: right;\n",
              "    }\n",
              "</style>\n",
              "<table border=\"1\" class=\"dataframe\">\n",
              "  <thead>\n",
              "    <tr style=\"text-align: right;\">\n",
              "      <th></th>\n",
              "      <th>text</th>\n",
              "      <th>hashtags</th>\n",
              "    </tr>\n",
              "  </thead>\n",
              "  <tbody>\n",
              "    <tr>\n",
              "      <th>0</th>\n",
              "      <td>@rssurjewala: Critical question: Was PayTM inf...</td>\n",
              "      <td>[#Demonetization]</td>\n",
              "    </tr>\n",
              "    <tr>\n",
              "      <th>1</th>\n",
              "      <td>@Hemant_80: Did you vote on #Demonetization on...</td>\n",
              "      <td>[#Demonetization]</td>\n",
              "    </tr>\n",
              "    <tr>\n",
              "      <th>2</th>\n",
              "      <td>@roshankar: Former FinSec, RBI Dy Governor, CB...</td>\n",
              "      <td>[#Demonetization]</td>\n",
              "    </tr>\n",
              "    <tr>\n",
              "      <th>3</th>\n",
              "      <td>@ANI_news: Gurugram (Haryana): Post office emp...</td>\n",
              "      <td>[#demonetization]</td>\n",
              "    </tr>\n",
              "    <tr>\n",
              "      <th>4</th>\n",
              "      <td>@satishacharya: Reddy Wedding! @mail_today car...</td>\n",
              "      <td>[#demonetization, #ReddyWedding]</td>\n",
              "    </tr>\n",
              "  </tbody>\n",
              "</table>\n",
              "</div>\n",
              "    <div class=\"colab-df-buttons\">\n",
              "\n",
              "  <div class=\"colab-df-container\">\n",
              "    <button class=\"colab-df-convert\" onclick=\"convertToInteractive('df-f312be7a-8759-4a8f-a3b7-2e5a18d57666')\"\n",
              "            title=\"Convert this dataframe to an interactive table.\"\n",
              "            style=\"display:none;\">\n",
              "\n",
              "  <svg xmlns=\"http://www.w3.org/2000/svg\" height=\"24px\" viewBox=\"0 -960 960 960\">\n",
              "    <path d=\"M120-120v-720h720v720H120Zm60-500h600v-160H180v160Zm220 220h160v-160H400v160Zm0 220h160v-160H400v160ZM180-400h160v-160H180v160Zm440 0h160v-160H620v160ZM180-180h160v-160H180v160Zm440 0h160v-160H620v160Z\"/>\n",
              "  </svg>\n",
              "    </button>\n",
              "\n",
              "  <style>\n",
              "    .colab-df-container {\n",
              "      display:flex;\n",
              "      gap: 12px;\n",
              "    }\n",
              "\n",
              "    .colab-df-convert {\n",
              "      background-color: #E8F0FE;\n",
              "      border: none;\n",
              "      border-radius: 50%;\n",
              "      cursor: pointer;\n",
              "      display: none;\n",
              "      fill: #1967D2;\n",
              "      height: 32px;\n",
              "      padding: 0 0 0 0;\n",
              "      width: 32px;\n",
              "    }\n",
              "\n",
              "    .colab-df-convert:hover {\n",
              "      background-color: #E2EBFA;\n",
              "      box-shadow: 0px 1px 2px rgba(60, 64, 67, 0.3), 0px 1px 3px 1px rgba(60, 64, 67, 0.15);\n",
              "      fill: #174EA6;\n",
              "    }\n",
              "\n",
              "    .colab-df-buttons div {\n",
              "      margin-bottom: 4px;\n",
              "    }\n",
              "\n",
              "    [theme=dark] .colab-df-convert {\n",
              "      background-color: #3B4455;\n",
              "      fill: #D2E3FC;\n",
              "    }\n",
              "\n",
              "    [theme=dark] .colab-df-convert:hover {\n",
              "      background-color: #434B5C;\n",
              "      box-shadow: 0px 1px 3px 1px rgba(0, 0, 0, 0.15);\n",
              "      filter: drop-shadow(0px 1px 2px rgba(0, 0, 0, 0.3));\n",
              "      fill: #FFFFFF;\n",
              "    }\n",
              "  </style>\n",
              "\n",
              "    <script>\n",
              "      const buttonEl =\n",
              "        document.querySelector('#df-f312be7a-8759-4a8f-a3b7-2e5a18d57666 button.colab-df-convert');\n",
              "      buttonEl.style.display =\n",
              "        google.colab.kernel.accessAllowed ? 'block' : 'none';\n",
              "\n",
              "      async function convertToInteractive(key) {\n",
              "        const element = document.querySelector('#df-f312be7a-8759-4a8f-a3b7-2e5a18d57666');\n",
              "        const dataTable =\n",
              "          await google.colab.kernel.invokeFunction('convertToInteractive',\n",
              "                                                    [key], {});\n",
              "        if (!dataTable) return;\n",
              "\n",
              "        const docLinkHtml = 'Like what you see? Visit the ' +\n",
              "          '<a target=\"_blank\" href=https://colab.research.google.com/notebooks/data_table.ipynb>data table notebook</a>'\n",
              "          + ' to learn more about interactive tables.';\n",
              "        element.innerHTML = '';\n",
              "        dataTable['output_type'] = 'display_data';\n",
              "        await google.colab.output.renderOutput(dataTable, element);\n",
              "        const docLink = document.createElement('div');\n",
              "        docLink.innerHTML = docLinkHtml;\n",
              "        element.appendChild(docLink);\n",
              "      }\n",
              "    </script>\n",
              "  </div>\n",
              "\n",
              "\n",
              "    <div id=\"df-6d97e7e2-8dbf-4e82-bfb0-ed8ac628caea\">\n",
              "      <button class=\"colab-df-quickchart\" onclick=\"quickchart('df-6d97e7e2-8dbf-4e82-bfb0-ed8ac628caea')\"\n",
              "                title=\"Suggest charts\"\n",
              "                style=\"display:none;\">\n",
              "\n",
              "<svg xmlns=\"http://www.w3.org/2000/svg\" height=\"24px\"viewBox=\"0 0 24 24\"\n",
              "     width=\"24px\">\n",
              "    <g>\n",
              "        <path d=\"M19 3H5c-1.1 0-2 .9-2 2v14c0 1.1.9 2 2 2h14c1.1 0 2-.9 2-2V5c0-1.1-.9-2-2-2zM9 17H7v-7h2v7zm4 0h-2V7h2v10zm4 0h-2v-4h2v4z\"/>\n",
              "    </g>\n",
              "</svg>\n",
              "      </button>\n",
              "\n",
              "<style>\n",
              "  .colab-df-quickchart {\n",
              "      --bg-color: #E8F0FE;\n",
              "      --fill-color: #1967D2;\n",
              "      --hover-bg-color: #E2EBFA;\n",
              "      --hover-fill-color: #174EA6;\n",
              "      --disabled-fill-color: #AAA;\n",
              "      --disabled-bg-color: #DDD;\n",
              "  }\n",
              "\n",
              "  [theme=dark] .colab-df-quickchart {\n",
              "      --bg-color: #3B4455;\n",
              "      --fill-color: #D2E3FC;\n",
              "      --hover-bg-color: #434B5C;\n",
              "      --hover-fill-color: #FFFFFF;\n",
              "      --disabled-bg-color: #3B4455;\n",
              "      --disabled-fill-color: #666;\n",
              "  }\n",
              "\n",
              "  .colab-df-quickchart {\n",
              "    background-color: var(--bg-color);\n",
              "    border: none;\n",
              "    border-radius: 50%;\n",
              "    cursor: pointer;\n",
              "    display: none;\n",
              "    fill: var(--fill-color);\n",
              "    height: 32px;\n",
              "    padding: 0;\n",
              "    width: 32px;\n",
              "  }\n",
              "\n",
              "  .colab-df-quickchart:hover {\n",
              "    background-color: var(--hover-bg-color);\n",
              "    box-shadow: 0 1px 2px rgba(60, 64, 67, 0.3), 0 1px 3px 1px rgba(60, 64, 67, 0.15);\n",
              "    fill: var(--button-hover-fill-color);\n",
              "  }\n",
              "\n",
              "  .colab-df-quickchart-complete:disabled,\n",
              "  .colab-df-quickchart-complete:disabled:hover {\n",
              "    background-color: var(--disabled-bg-color);\n",
              "    fill: var(--disabled-fill-color);\n",
              "    box-shadow: none;\n",
              "  }\n",
              "\n",
              "  .colab-df-spinner {\n",
              "    border: 2px solid var(--fill-color);\n",
              "    border-color: transparent;\n",
              "    border-bottom-color: var(--fill-color);\n",
              "    animation:\n",
              "      spin 1s steps(1) infinite;\n",
              "  }\n",
              "\n",
              "  @keyframes spin {\n",
              "    0% {\n",
              "      border-color: transparent;\n",
              "      border-bottom-color: var(--fill-color);\n",
              "      border-left-color: var(--fill-color);\n",
              "    }\n",
              "    20% {\n",
              "      border-color: transparent;\n",
              "      border-left-color: var(--fill-color);\n",
              "      border-top-color: var(--fill-color);\n",
              "    }\n",
              "    30% {\n",
              "      border-color: transparent;\n",
              "      border-left-color: var(--fill-color);\n",
              "      border-top-color: var(--fill-color);\n",
              "      border-right-color: var(--fill-color);\n",
              "    }\n",
              "    40% {\n",
              "      border-color: transparent;\n",
              "      border-right-color: var(--fill-color);\n",
              "      border-top-color: var(--fill-color);\n",
              "    }\n",
              "    60% {\n",
              "      border-color: transparent;\n",
              "      border-right-color: var(--fill-color);\n",
              "    }\n",
              "    80% {\n",
              "      border-color: transparent;\n",
              "      border-right-color: var(--fill-color);\n",
              "      border-bottom-color: var(--fill-color);\n",
              "    }\n",
              "    90% {\n",
              "      border-color: transparent;\n",
              "      border-bottom-color: var(--fill-color);\n",
              "    }\n",
              "  }\n",
              "</style>\n",
              "\n",
              "      <script>\n",
              "        async function quickchart(key) {\n",
              "          const quickchartButtonEl =\n",
              "            document.querySelector('#' + key + ' button');\n",
              "          quickchartButtonEl.disabled = true;  // To prevent multiple clicks.\n",
              "          quickchartButtonEl.classList.add('colab-df-spinner');\n",
              "          try {\n",
              "            const charts = await google.colab.kernel.invokeFunction(\n",
              "                'suggestCharts', [key], {});\n",
              "          } catch (error) {\n",
              "            console.error('Error during call to suggestCharts:', error);\n",
              "          }\n",
              "          quickchartButtonEl.classList.remove('colab-df-spinner');\n",
              "          quickchartButtonEl.classList.add('colab-df-quickchart-complete');\n",
              "        }\n",
              "        (() => {\n",
              "          let quickchartButtonEl =\n",
              "            document.querySelector('#df-6d97e7e2-8dbf-4e82-bfb0-ed8ac628caea button');\n",
              "          quickchartButtonEl.style.display =\n",
              "            google.colab.kernel.accessAllowed ? 'block' : 'none';\n",
              "        })();\n",
              "      </script>\n",
              "    </div>\n",
              "\n",
              "    </div>\n",
              "  </div>\n"
            ],
            "application/vnd.google.colaboratory.intrinsic+json": {
              "type": "dataframe",
              "summary": "{\n  \"name\": \"df[['text','hashtags']]\",\n  \"rows\": 5,\n  \"fields\": [\n    {\n      \"column\": \"text\",\n      \"properties\": {\n        \"dtype\": \"string\",\n        \"num_unique_values\": 5,\n        \"samples\": [\n          \"@Hemant_80: Did you vote on #Demonetization on Modi survey app?\",\n          \"@satishacharya: Reddy Wedding! @mail_today cartoon #demonetization #ReddyWedding https://t.co/u7gLNrq31F\",\n          \"@roshankar: Former FinSec, RBI Dy Governor, CBDT Chair + Harvard Professor lambaste #Demonetization.\\r\\n\\r\\nIf not for Aam Aadmi, listen to th\\u0085\"\n        ],\n        \"semantic_type\": \"\",\n        \"description\": \"\"\n      }\n    },\n    {\n      \"column\": \"hashtags\",\n      \"properties\": {\n        \"dtype\": \"object\",\n        \"semantic_type\": \"\",\n        \"description\": \"\"\n      }\n    }\n  ]\n}"
            }
          },
          "metadata": {},
          "execution_count": 32
        }
      ]
    },
    {
      "cell_type": "markdown",
      "metadata": {
        "id": "jGXFs7YIujkH"
      },
      "source": [
        "## 4. Regex Challenge\n",
        "\n",
        "Now that you have learned all the concepts regarding regex and have also seen it in action, it's time for you to utilize that to solve a challenge all by yourself. Here are some of the tasks that you have to do -\n",
        "\n",
        "### a. Removing URLs from tweets\n",
        "\n",
        "**Difficulty - Easy**\n",
        "\n",
        "There are multiple URLs present in individual tweet's `text` and they don't neccessarily provide useful information so we can get rid of them. For example -  \n",
        "\n",
        "*@Joydas: Question in Narendra Modi App where PM is taking feedback if people support his #DeMonetization strategy https://t.co/pYgK8Rmg7r*\n",
        "\n",
        "\n",
        "We can very well remove the URL as it isn't providing much useful information.\n"
      ]
    },
    {
      "cell_type": "code",
      "metadata": {
        "id": "o6I4k1QuujkJ",
        "colab": {
          "base_uri": "https://localhost:8080/",
          "height": 35
        },
        "outputId": "d522e8f4-56cd-4344-e85d-b6c7e729ab44"
      },
      "source": [
        "# Removing URLs from a single tweet\n",
        "text='@Joydas: Question in Narendra Modi App where PM is taking feedback if people support his #DeMonetization strategy https://t.co/pYgK8Rmg7r'\n",
        "re.sub('https?://[A-Za-z0-9.-/]+','',text)\n"
      ],
      "execution_count": 33,
      "outputs": [
        {
          "output_type": "execute_result",
          "data": {
            "text/plain": [
              "'@Joydas: Question in Narendra Modi App where PM is taking feedback if people support his #DeMonetization strategy '"
            ],
            "application/vnd.google.colaboratory.intrinsic+json": {
              "type": "string"
            }
          },
          "metadata": {},
          "execution_count": 33
        }
      ]
    },
    {
      "cell_type": "code",
      "source": [
        "# Removing URLs from all the tweets\n",
        "df['text']=df['text'].apply(lambda x: re.sub('https?://[A-Za-z0-9.-/]+','',x))"
      ],
      "metadata": {
        "id": "TR1j4jCwD49x"
      },
      "execution_count": 34,
      "outputs": []
    },
    {
      "cell_type": "markdown",
      "metadata": {
        "id": "5Fbl6z9iujkO"
      },
      "source": [
        "### b. Extract Top 100 mentions\n",
        "\n",
        "**Difficulty - Medium**\n",
        "\n",
        "Many of the tweets have mentions of people in the form *@username*, for example see the following tweet -\n",
        "\n",
        "*@Joydas: Question in Narendra Modi App where PM is taking feedback if people support his #DeMonetization strategy https://t.co/pYgK8Rmg7r*\n",
        "\n",
        "Here *@Joydas* is a mention. You need to extract mentions from all the tweets and find which are the top 100 usernames."
      ]
    },
    {
      "cell_type": "code",
      "metadata": {
        "id": "tdgcC6-uujkO"
      },
      "source": [
        "# Function for extracting mentions from the tweet\n",
        "def mention(x):\n",
        "    found=re.findall(r'@\\w+',x)\n",
        "    if found:\n",
        "        return found\n",
        "    return None\n"
      ],
      "execution_count": 35,
      "outputs": []
    },
    {
      "cell_type": "code",
      "source": [
        "# Extract mentions from all the tweets\n",
        "arr=df['text'].apply(lambda x : mention(x))"
      ],
      "metadata": {
        "id": "t4VnNDrjD-gY"
      },
      "execution_count": 36,
      "outputs": []
    },
    {
      "cell_type": "code",
      "source": [
        "arr"
      ],
      "metadata": {
        "colab": {
          "base_uri": "https://localhost:8080/",
          "height": 458
        },
        "id": "sAS83intEA6t",
        "outputId": "dea4e73b-70c9-4801-ff09-3ce8ab7355d6"
      },
      "execution_count": 37,
      "outputs": [
        {
          "output_type": "execute_result",
          "data": {
            "text/plain": [
              "0                       [@rssurjewala]\n",
              "1                         [@Hemant_80]\n",
              "2                         [@roshankar]\n",
              "3                          [@ANI_news]\n",
              "4        [@satishacharya, @mail_today]\n",
              "                     ...              \n",
              "14935                [@saxenavishakha]\n",
              "14936                             None\n",
              "14937                [@bharat_builder]\n",
              "14938          [@Stupidosaur, @Vidyut]\n",
              "14939                        [@Vidyut]\n",
              "Name: text, Length: 14940, dtype: object"
            ],
            "text/html": [
              "<div>\n",
              "<style scoped>\n",
              "    .dataframe tbody tr th:only-of-type {\n",
              "        vertical-align: middle;\n",
              "    }\n",
              "\n",
              "    .dataframe tbody tr th {\n",
              "        vertical-align: top;\n",
              "    }\n",
              "\n",
              "    .dataframe thead th {\n",
              "        text-align: right;\n",
              "    }\n",
              "</style>\n",
              "<table border=\"1\" class=\"dataframe\">\n",
              "  <thead>\n",
              "    <tr style=\"text-align: right;\">\n",
              "      <th></th>\n",
              "      <th>text</th>\n",
              "    </tr>\n",
              "  </thead>\n",
              "  <tbody>\n",
              "    <tr>\n",
              "      <th>0</th>\n",
              "      <td>[@rssurjewala]</td>\n",
              "    </tr>\n",
              "    <tr>\n",
              "      <th>1</th>\n",
              "      <td>[@Hemant_80]</td>\n",
              "    </tr>\n",
              "    <tr>\n",
              "      <th>2</th>\n",
              "      <td>[@roshankar]</td>\n",
              "    </tr>\n",
              "    <tr>\n",
              "      <th>3</th>\n",
              "      <td>[@ANI_news]</td>\n",
              "    </tr>\n",
              "    <tr>\n",
              "      <th>4</th>\n",
              "      <td>[@satishacharya, @mail_today]</td>\n",
              "    </tr>\n",
              "    <tr>\n",
              "      <th>...</th>\n",
              "      <td>...</td>\n",
              "    </tr>\n",
              "    <tr>\n",
              "      <th>14935</th>\n",
              "      <td>[@saxenavishakha]</td>\n",
              "    </tr>\n",
              "    <tr>\n",
              "      <th>14936</th>\n",
              "      <td>None</td>\n",
              "    </tr>\n",
              "    <tr>\n",
              "      <th>14937</th>\n",
              "      <td>[@bharat_builder]</td>\n",
              "    </tr>\n",
              "    <tr>\n",
              "      <th>14938</th>\n",
              "      <td>[@Stupidosaur, @Vidyut]</td>\n",
              "    </tr>\n",
              "    <tr>\n",
              "      <th>14939</th>\n",
              "      <td>[@Vidyut]</td>\n",
              "    </tr>\n",
              "  </tbody>\n",
              "</table>\n",
              "<p>14940 rows × 1 columns</p>\n",
              "</div><br><label><b>dtype:</b> object</label>"
            ]
          },
          "metadata": {},
          "execution_count": 37
        }
      ]
    },
    {
      "cell_type": "code",
      "source": [
        "# Combining all the mentions into a list\n",
        "mentions_arr=[]\n",
        "\n",
        "for x in arr:\n",
        "    if x != None:\n",
        "        mentions_arr.extend(x)"
      ],
      "metadata": {
        "id": "v3-kj7TgEHyQ"
      },
      "execution_count": 38,
      "outputs": []
    },
    {
      "cell_type": "code",
      "metadata": {
        "id": "GXC_o_qWujkf"
      },
      "source": [
        "# Function for extracting mentions from the tweet\n",
        "def mention(x):\n",
        "    found=re.findall(r'@\\w+',x)\n",
        "    if found:\n",
        "        return found\n",
        "    return None"
      ],
      "execution_count": null,
      "outputs": []
    },
    {
      "cell_type": "code",
      "metadata": {
        "id": "qFVUzUwEujkk"
      },
      "source": [
        "# Extract mentions from all the tweets\n",
        "arr=df['text'].apply(lambda x : mention(x))"
      ],
      "execution_count": null,
      "outputs": []
    },
    {
      "cell_type": "code",
      "metadata": {
        "id": "wnIgw1uQujko",
        "colab": {
          "base_uri": "https://localhost:8080/",
          "height": 225
        },
        "outputId": "25ef2e22-2959-4c11-9201-bce22378da41"
      },
      "source": [
        "arr"
      ],
      "execution_count": null,
      "outputs": [
        {
          "output_type": "execute_result",
          "data": {
            "text/plain": [
              "0                       [@rssurjewala]\n",
              "1                         [@Hemant_80]\n",
              "2                         [@roshankar]\n",
              "3                          [@ANI_news]\n",
              "4        [@satishacharya, @mail_today]\n",
              "                     ...              \n",
              "14935                [@saxenavishakha]\n",
              "14936                             None\n",
              "14937                [@bharat_builder]\n",
              "14938          [@Stupidosaur, @Vidyut]\n",
              "14939                        [@Vidyut]\n",
              "Name: text, Length: 14940, dtype: object"
            ]
          },
          "metadata": {
            "tags": []
          },
          "execution_count": 34
        }
      ]
    },
    {
      "cell_type": "code",
      "metadata": {
        "id": "vHVrtGl6ujks"
      },
      "source": [
        "# Combining all the mentions into a list\n",
        "mentions_arr=[]\n",
        "\n",
        "for x in arr:\n",
        "    if x != None:\n",
        "        mentions_arr.extend(x)"
      ],
      "execution_count": null,
      "outputs": []
    },
    {
      "cell_type": "code",
      "source": [
        "mentions_arr[:10]"
      ],
      "metadata": {
        "colab": {
          "base_uri": "https://localhost:8080/"
        },
        "id": "ab0xO4_ZEMAD",
        "outputId": "cac98e65-84b2-47c8-8ea6-9a6ee1999f83"
      },
      "execution_count": 39,
      "outputs": [
        {
          "output_type": "execute_result",
          "data": {
            "text/plain": [
              "['@rssurjewala',\n",
              " '@Hemant_80',\n",
              " '@roshankar',\n",
              " '@ANI_news',\n",
              " '@satishacharya',\n",
              " '@mail_today',\n",
              " '@DerekScissors1',\n",
              " '@ambazaarmag',\n",
              " '@gauravcsawant',\n",
              " '@Joydeep_911']"
            ]
          },
          "metadata": {},
          "execution_count": 39
        }
      ]
    },
    {
      "cell_type": "code",
      "source": [
        "# Getting top 100 mentions\n",
        "mentions_count=pd.Series(mentions_arr).value_counts().head(100)"
      ],
      "metadata": {
        "id": "hNr16AoPESXn"
      },
      "execution_count": 42,
      "outputs": []
    },
    {
      "cell_type": "code",
      "source": [
        "print(mentions_count)"
      ],
      "metadata": {
        "colab": {
          "base_uri": "https://localhost:8080/"
        },
        "id": "3y8KEuPjEusJ",
        "outputId": "09f82f46-a04d-4565-acfd-842ed18c713a"
      },
      "execution_count": 44,
      "outputs": [
        {
          "output_type": "stream",
          "name": "stdout",
          "text": [
            "@evanspiegel        1311\n",
            "@URautelaForever    1273\n",
            "@narendramodi       1138\n",
            "@gauravcsawant       541\n",
            "@ModiBharosa         540\n",
            "                    ... \n",
            "@sanjayuv             30\n",
            "@rupasubramanya       30\n",
            "@hi_paresh            30\n",
            "@upma23               29\n",
            "@CMOMaharashtra       29\n",
            "Name: count, Length: 100, dtype: int64\n"
          ]
        }
      ]
    }
  ]
}