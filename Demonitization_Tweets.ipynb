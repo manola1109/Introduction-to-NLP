{
  "nbformat": 4,
  "nbformat_minor": 0,
  "metadata": {
    "colab": {
      "provenance": [],
      "gpuType": "T4",
      "authorship_tag": "ABX9TyO0lRTmtYFaukcOVCVDjcSL",
      "include_colab_link": true
    },
    "kernelspec": {
      "name": "python3",
      "display_name": "Python 3"
    },
    "language_info": {
      "name": "python"
    },
    "accelerator": "GPU"
  },
  "cells": [
    {
      "cell_type": "markdown",
      "metadata": {
        "id": "view-in-github",
        "colab_type": "text"
      },
      "source": [
        "<a href=\"https://colab.research.google.com/github/manola1109/Introduction-to-NLP/blob/main/Demonitization_Tweets.ipynb\" target=\"_parent\"><img src=\"https://colab.research.google.com/assets/colab-badge.svg\" alt=\"Open In Colab\"/></a>"
      ]
    },
    {
      "cell_type": "code",
      "execution_count": 3,
      "metadata": {
        "colab": {
          "base_uri": "https://localhost:8080/"
        },
        "id": "KV-10KeSLyeO",
        "outputId": "d7d45d34-a33b-4554-bf11-5f44a1381804"
      },
      "outputs": [
        {
          "output_type": "stream",
          "name": "stderr",
          "text": [
            "<ipython-input-3-171f5a0718c0>:21: UserWarning: This pattern is interpreted as a regular expression, and has match groups. To actually get the groups, use str.extract.\n",
            "  pm_tweets = df[df['clean_text'].str.contains(pm_pattern, case=False, regex=True)]\n"
          ]
        },
        {
          "output_type": "stream",
          "name": "stdout",
          "text": [
            "Top 50 Mentions: [('evanspiegel', 1311), ('URautelaForever', 1273), ('narendramodi', 1138), ('gauravcsawant', 541), ('ModiBharosa', 540), ('DrKumarVishwas', 358), ('5Forty3', 286), ('rssurjewala', 284), ('rahulroushan', 284), ('PMOIndia', 246), ('centerofright', 237), ('ShashiTharoor', 231), ('DasShaktikanta', 195), ('ArvindKejriwal', 185), ('steve_hanke', 179), ('ashu3page', 171), ('YouTube', 159), ('kanimozhi', 153), ('RoflGandhi_', 151), ('AskAnshul', 149), ('Timcast', 147), ('Atheist_Krishna', 135), ('ippatel', 116), ('Joydas', 114), ('arunjaitley', 114), ('jamewils', 114), ('PIB_India', 113), ('FinMinIndia', 104), ('attomeybharti', 103), ('Joydeep_911', 102), ('Memeghnad', 95), ('PiyushGoyalOffc', 95), ('DrGPradhan', 90), ('dna', 85), ('arvindsubraman', 80), ('priyaakulkarni2', 80), ('minimathur', 79), ('MIB_India', 79), ('Ra_THORe', 75), ('pGurus1', 74), ('_MiteshPatel', 73), ('aartic02', 72), ('aaanupriyaaa', 70), ('NG_withINC', 68), ('Hemant_80', 62), ('jairajp', 62), ('harshkkapoor', 60), ('na', 59), ('ShirishKunder', 56), ('anandkamal', 54)]\n",
            "\n",
            "Top 50 Hashtags: [('Demonetization', 3884), ('demonetization', 3783), ('DeMonetization', 920), ('India', 356), ('nitishkumar', 257), ('demo', 174), ('GLvMI', 145), ('CorruptionFreeIndia', 103), ('BlackMoney', 96), ('Modi', 92), ('VijayMallya', 86), ('IndiaFightsCorruption', 79), ('DEMONETIZATION', 60), ('BJP', 56), ('NoMoneyYaar', 53), ('Demonetizat', 47), ('SonuNigam', 47), ('DeMonetisation', 45), ('RatanTata', 44), ('Insights', 44), ('bulletin', 44), ('boycottsnapchat', 44), ('RBI', 42), ('NarendraModi', 41), ('LifeInsurance', 34), ('demonetisation', 31), ('YouTubeIsDead', 30), ('NMApp', 29), ('MeraDeshBadalRaha', 28), ('PMModi', 26), ('news', 25), ('TrustBJP', 25), ('Bypolls', 24), ('not', 23), ('YouTube', 23), ('CGDTalks', 23), ('IndiaKaDil', 22), ('india', 22), ('Hilarious', 21), ('blackmoney', 20), ('Hitler', 20), ('WarOnCash', 20), ('lifehacks', 19), ('Doltiwal', 18), ('JaiChandKejriwal', 18), ('survey', 18), ('PM', 18), ('Delhi', 18), ('NorthEast', 18), ('ITVideo', 18)]\n",
            "\n",
            "Sample Sentences mentioning PM: [\"RT @rssurjewala: Critical question: Was PayTM informed about #Demonetization edict by PM? It's clearly fishy and requires full disclosure &amp;\\x85\", 'RT @Hemant_80: Did you vote on #Demonetization on Modi survey app?', 'RT @Joydas: Question in Narendra Modi App where PM is taking feedback if people support his #DeMonetization strategy ', 'RT @Dipankar_cpiml: The Modi app on #DeMonetization proves once again that the govt is totally indifferent to the mounting misery and hards\\x85', 'RT @Hemant_80: Did you vote on #Demonetization on Modi survey app?']\n",
            "\n",
            "Top 50 Prepositional Phrases: [('to implement demonetization to find', 1392), ('in j', 625), ('from a bank in kishtwar', 542), ('by pm', 291), ('across the nation \\r\\n80', 261), ('over party politics', 257), ('for pm', 250), ('to demonetization', 213), ('from jan dhan to ujjwala', 190), ('to neem coated urea to', 190), ('on india is historically unprecedent', 188), ('of cash once again after', 174), ('over fund shortage ahead of', 153), ('in gujarat', 151), ('in demonetization', 150), ('after ages', 145), ('for demonetization then after most', 138), ('after demonetization', 125), ('in india', 116), ('in narendra modi app where', 114), ('by bjp has proved the', 112), ('of ls and state in', 111), ('of demonetization on the education', 108), ('in india an article from', 108), ('by dea secy', 106), ('to join', 103), ('among the mas', 102), ('of supply due to staff', 102), ('of demonetization is going to', 99), ('than the political or elec', 97), ('in all our actions', 97), ('from demonetization to transparent e', 97), ('before and after gandhi ji', 91), ('after demonetization first modi waived', 86), ('of demonetization', 84), ('to grow at 7', 84), ('in kashmir', 82), ('to asian development bank', 81), ('of whooping 4 lakh crores', 76), ('in 30 days due to', 76), ('like ak pappu', 76), ('in parliament on the impact', 76), ('along india', 75), ('of modi', 73), ('in first part she says', 72), ('in bengal', 72), ('of opposition mps demonstrating solidarity', 69), ('on fishermen in kerala and', 69), ('on modi survey app', 65), ('of the', 60)]\n"
          ]
        }
      ],
      "source": [
        "import pandas as pd\n",
        "import re\n",
        "from collections import Counter\n",
        "\n",
        "# Load the dataset, specifying the encoding as 'latin-1'\n",
        "df = pd.read_csv('Demonetization_tweets.csv', encoding='latin-1')\n",
        "\n",
        "# Preprocess text: remove URLs\n",
        "df['clean_text'] = df['text'].str.replace(r'http\\S+', '', flags=re.IGNORECASE, regex=True)\n",
        "\n",
        "# Task 1: Top 50 mentions\n",
        "mentions = df['clean_text'].str.findall(r'@(\\w+)').sum()\n",
        "top_mentions = Counter(mentions).most_common(50)\n",
        "\n",
        "# Task 2: Top 50 hashtags\n",
        "hashtags = df['clean_text'].str.findall(r'#(\\w+)').sum()\n",
        "top_hashtags = Counter(hashtags).most_common(50)\n",
        "\n",
        "# Task 3: Sentences mentioning Prime Minister\n",
        "pm_pattern = r'\\b(prime minister|pm|narendra modi|modi)\\b'\n",
        "pm_tweets = df[df['clean_text'].str.contains(pm_pattern, case=False, regex=True)]\n",
        "pm_sentences = pm_tweets['clean_text'].tolist()\n",
        "\n",
        "# Task 4: Prepositional phrases extraction\n",
        "prepositions = [\n",
        "    'in', 'on', 'at', 'since', 'for', 'ago', 'before', 'after', 'to', 'from',\n",
        "    'until', 'by', 'under', 'below', 'over', 'above', 'across', 'through',\n",
        "    'into', 'towards', 'onto', 'upon', 'of', 'about', 'with', 'without',\n",
        "    'against', 'among', 'between', 'along', 'around', 'during', 'despite',\n",
        "    'except', 'excluding', 'following', 'like', 'near', 'past', 'per', 'plus',\n",
        "    'regarding', 'round', 'save', 'than', 'via', 'within', 'without'\n",
        "]\n",
        "prep_pattern = r'\\b(' + '|'.join(prepositions) + r')\\b\\s+((?:\\w+\\s*){1,4})'\n",
        "matches = df['clean_text'].str.findall(prep_pattern, flags=re.IGNORECASE)\n",
        "\n",
        "phrases = []\n",
        "for match_list in matches:\n",
        "    for prep, phrase in match_list:\n",
        "        phrases.append(f\"{prep} {phrase.strip()}\".lower())\n",
        "\n",
        "top_phrases = Counter(phrases).most_common(50)\n",
        "\n",
        "# Display results\n",
        "print(\"Top 50 Mentions:\", top_mentions)\n",
        "print(\"\\nTop 50 Hashtags:\", top_hashtags)\n",
        "print(\"\\nSample Sentences mentioning PM:\", pm_sentences[:5])  # Sample output\n",
        "print(\"\\nTop 50 Prepositional Phrases:\", top_phrases)"
      ]
    }
  ]
}