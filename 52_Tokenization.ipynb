{
  "nbformat": 4,
  "nbformat_minor": 0,
  "metadata": {
    "kernelspec": {
      "display_name": "Python 3",
      "name": "python3"
    },
    "language_info": {
      "codemirror_mode": {
        "name": "ipython",
        "version": 3
      },
      "file_extension": ".py",
      "mimetype": "text/x-python",
      "name": "python",
      "nbconvert_exporter": "python",
      "pygments_lexer": "ipython3",
      "version": "3.6.7"
    },
    "colab": {
      "provenance": [],
      "gpuType": "T4",
      "include_colab_link": true
    },
    "accelerator": "GPU"
  },
  "cells": [
    {
      "cell_type": "markdown",
      "metadata": {
        "id": "view-in-github",
        "colab_type": "text"
      },
      "source": [
        "<a href=\"https://colab.research.google.com/github/manola1109/Introduction-to-NLP/blob/main/52_Tokenization.ipynb\" target=\"_parent\"><img src=\"https://colab.research.google.com/assets/colab-badge.svg\" alt=\"Open In Colab\"/></a>"
      ]
    },
    {
      "cell_type": "code",
      "metadata": {
        "id": "RtF6PxC6i7Kw"
      },
      "source": [
        "# Defining string\n",
        "text= \"I'm working as a Data Scientist in the U.S. and earning $140,000.\""
      ],
      "execution_count": 2,
      "outputs": []
    },
    {
      "cell_type": "code",
      "metadata": {
        "id": "zI-hr_Lti7K6",
        "colab": {
          "base_uri": "https://localhost:8080/"
        },
        "outputId": "a4d730b2-7170-4db6-ea73-0b018784c23e"
      },
      "source": [
        "# Whitespace Tokenizer\n",
        "print(text.split())"
      ],
      "execution_count": 3,
      "outputs": [
        {
          "output_type": "stream",
          "name": "stdout",
          "text": [
            "[\"I'm\", 'working', 'as', 'a', 'Data', 'Scientist', 'in', 'the', 'U.S.', 'and', 'earning', '$140,000.']\n"
          ]
        }
      ]
    },
    {
      "cell_type": "code",
      "metadata": {
        "id": "QwOeOOd8i7LE"
      },
      "source": [
        "import spacy"
      ],
      "execution_count": 4,
      "outputs": []
    },
    {
      "cell_type": "markdown",
      "metadata": {
        "id": "nRkbF65Di7LM"
      },
      "source": [
        "Models in spaCy for English Language as of release 2.3.1:\n",
        "- **en_core_web_sm:** 11MB\n",
        "- **en_core_web_md:** 48MB\n",
        "- **en_core_web_lg:** 746MB"
      ]
    },
    {
      "cell_type": "code",
      "metadata": {
        "id": "uNMIGwtgi7LO"
      },
      "source": [
        "# Loading model\n",
        "nlp=spacy.load('en_core_web_sm')"
      ],
      "execution_count": 5,
      "outputs": []
    },
    {
      "cell_type": "code",
      "metadata": {
        "id": "W_V6pOrri7LV"
      },
      "source": [
        "# creating Doc object\n",
        "doc=nlp(text)"
      ],
      "execution_count": 6,
      "outputs": []
    },
    {
      "cell_type": "code",
      "metadata": {
        "id": "ZfhUAFNxi7Ld",
        "colab": {
          "base_uri": "https://localhost:8080/"
        },
        "outputId": "5052523b-f2a4-45b7-c7d1-46e6f4816b16"
      },
      "source": [
        "doc"
      ],
      "execution_count": 7,
      "outputs": [
        {
          "output_type": "execute_result",
          "data": {
            "text/plain": [
              "I'm working as a Data Scientist in the U.S. and earning $140,000."
            ]
          },
          "metadata": {},
          "execution_count": 7
        }
      ]
    },
    {
      "cell_type": "code",
      "metadata": {
        "id": "is99sNori7Ll",
        "colab": {
          "base_uri": "https://localhost:8080/"
        },
        "outputId": "2b37a627-9500-4858-fdba-e90a856ea7e5"
      },
      "source": [
        "type(doc)"
      ],
      "execution_count": 8,
      "outputs": [
        {
          "output_type": "execute_result",
          "data": {
            "text/plain": [
              "spacy.tokens.doc.Doc"
            ]
          },
          "metadata": {},
          "execution_count": 8
        }
      ]
    },
    {
      "cell_type": "code",
      "metadata": {
        "id": "TArL0yPei7Lt",
        "colab": {
          "base_uri": "https://localhost:8080/"
        },
        "outputId": "5ba80644-fe2e-4837-9339-f1713ab5e9ad"
      },
      "source": [
        "# spaCy Tokenizer\n",
        "print([token for token in doc])"
      ],
      "execution_count": 9,
      "outputs": [
        {
          "output_type": "stream",
          "name": "stdout",
          "text": [
            "[I, 'm, working, as, a, Data, Scientist, in, the, U.S., and, earning, $, 140,000, .]\n"
          ]
        }
      ]
    },
    {
      "cell_type": "code",
      "metadata": {
        "id": "0DTjZrDyi7L2",
        "colab": {
          "base_uri": "https://localhost:8080/"
        },
        "outputId": "0cd2a3d6-e1e6-4129-d3d0-2fffbacf3be8"
      },
      "source": [
        "# Type of token\n",
        "[type(token) for token in doc]"
      ],
      "execution_count": 10,
      "outputs": [
        {
          "output_type": "execute_result",
          "data": {
            "text/plain": [
              "[spacy.tokens.token.Token,\n",
              " spacy.tokens.token.Token,\n",
              " spacy.tokens.token.Token,\n",
              " spacy.tokens.token.Token,\n",
              " spacy.tokens.token.Token,\n",
              " spacy.tokens.token.Token,\n",
              " spacy.tokens.token.Token,\n",
              " spacy.tokens.token.Token,\n",
              " spacy.tokens.token.Token,\n",
              " spacy.tokens.token.Token,\n",
              " spacy.tokens.token.Token,\n",
              " spacy.tokens.token.Token,\n",
              " spacy.tokens.token.Token,\n",
              " spacy.tokens.token.Token,\n",
              " spacy.tokens.token.Token]"
            ]
          },
          "metadata": {},
          "execution_count": 10
        }
      ]
    },
    {
      "cell_type": "code",
      "metadata": {
        "scrolled": true,
        "id": "WDDbkA7wi7L9",
        "colab": {
          "base_uri": "https://localhost:8080/"
        },
        "outputId": "566debc4-c09f-4f80-f816-6157bc19cc3a"
      },
      "source": [
        "# Tokens as string\n",
        "print([token.text for token in doc])"
      ],
      "execution_count": 11,
      "outputs": [
        {
          "output_type": "stream",
          "name": "stdout",
          "text": [
            "['I', \"'m\", 'working', 'as', 'a', 'Data', 'Scientist', 'in', 'the', 'U.S.', 'and', 'earning', '$', '140,000', '.']\n"
          ]
        }
      ]
    },
    {
      "cell_type": "code",
      "metadata": {
        "id": "zwLhE_pBi7MF",
        "colab": {
          "base_uri": "https://localhost:8080/"
        },
        "outputId": "f1635b31-4e84-49b7-eb9a-0214d29b1c4a"
      },
      "source": [
        "# Comparing Whitespace and spaCy Tokenizer\n",
        "\n",
        "# Whitespace Tokenizer\n",
        "print(text.split())\n",
        "\n",
        "# spaCy Tokenizer\n",
        "print([token.text for token in doc])"
      ],
      "execution_count": 12,
      "outputs": [
        {
          "output_type": "stream",
          "name": "stdout",
          "text": [
            "[\"I'm\", 'working', 'as', 'a', 'Data', 'Scientist', 'in', 'the', 'U.S.', 'and', 'earning', '$140,000.']\n",
            "['I', \"'m\", 'working', 'as', 'a', 'Data', 'Scientist', 'in', 'the', 'U.S.', 'and', 'earning', '$', '140,000', '.']\n"
          ]
        }
      ]
    },
    {
      "cell_type": "code",
      "metadata": {
        "id": "i1Wi4Ewfi7MM",
        "colab": {
          "base_uri": "https://localhost:8080/"
        },
        "outputId": "0b587dc3-91dd-4c40-a82c-00dfdea99f9a"
      },
      "source": [
        "# No. of Tokens in Whitespace Tokenizer\n",
        "print(len(text.split()))\n",
        "\n",
        "# No. of Tokens in spaCy's Tokenizer\n",
        "print(len(doc))"
      ],
      "execution_count": 13,
      "outputs": [
        {
          "output_type": "stream",
          "name": "stdout",
          "text": [
            "12\n",
            "15\n"
          ]
        }
      ]
    },
    {
      "cell_type": "code",
      "metadata": {
        "id": "KvLyXUp7i7MU",
        "colab": {
          "base_uri": "https://localhost:8080/"
        },
        "outputId": "5c0ccdce-20b3-4fd7-92f6-bce4dcbeb0c5"
      },
      "source": [
        "text=\"My phone has a 20% battery left.\"\n",
        "\n",
        "# Whitespace Tokenizer\n",
        "print(text.split())\n",
        "\n",
        "# spaCy Tokenizer\n",
        "print([token.text for token in nlp(text)])"
      ],
      "execution_count": 14,
      "outputs": [
        {
          "output_type": "stream",
          "name": "stdout",
          "text": [
            "['My', 'phone', 'has', 'a', '20%', 'battery', 'left.']\n",
            "['My', 'phone', 'has', 'a', '20', '%', 'battery', 'left', '.']\n"
          ]
        }
      ]
    },
    {
      "cell_type": "code",
      "metadata": {
        "id": "jsNGne55i7Mb",
        "colab": {
          "base_uri": "https://localhost:8080/"
        },
        "outputId": "ee687993-ac65-459c-94ab-5c26ec1e7fc1"
      },
      "source": [
        "text=\"I ran 10km today.\"\n",
        "\n",
        "# Whitespace Tokenizer\n",
        "print(text.split())\n",
        "\n",
        "# spaCy Tokenizer\n",
        "print([token.text for token in nlp(text)])"
      ],
      "execution_count": 15,
      "outputs": [
        {
          "output_type": "stream",
          "name": "stdout",
          "text": [
            "['I', 'ran', '10km', 'today.']\n",
            "['I', 'ran', '10', 'km', 'today', '.']\n"
          ]
        }
      ]
    },
    {
      "cell_type": "code",
      "metadata": {
        "id": "xzwC7j9Si7Mi",
        "colab": {
          "base_uri": "https://localhost:8080/"
        },
        "outputId": "f69ce07e-bc83-42f8-d4d0-32a5af18c798"
      },
      "source": [
        "text=\"I know HTML, CSS, JavaScript, C++, and Node.js.\"\n",
        "\n",
        "# Whitespace Tokenizer\n",
        "print(text.split())\n",
        "\n",
        "# spaCy Tokenizer\n",
        "print([token.text for token in nlp(text)])"
      ],
      "execution_count": 16,
      "outputs": [
        {
          "output_type": "stream",
          "name": "stdout",
          "text": [
            "['I', 'know', 'HTML,', 'CSS,', 'JavaScript,', 'C++,', 'and', 'Node.js.']\n",
            "['I', 'know', 'HTML', ',', 'CSS', ',', 'JavaScript', ',', 'C++', ',', 'and', 'Node.js', '.']\n"
          ]
        }
      ]
    },
    {
      "cell_type": "code",
      "metadata": {
        "id": "Fd5Tyzks5SAB"
      },
      "source": [],
      "execution_count": null,
      "outputs": []
    }
  ]
}